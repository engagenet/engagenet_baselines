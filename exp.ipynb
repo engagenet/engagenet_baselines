{
 "cells": [
  {
   "cell_type": "code",
   "execution_count": 225,
   "id": "8ae34de1",
   "metadata": {},
   "outputs": [],
   "source": [
    "import os\n",
    "proc = os.listdir('marlin_features_small')\n"
   ]
  },
  {
   "cell_type": "code",
   "execution_count": 5,
   "id": "d31982f6",
   "metadata": {},
   "outputs": [],
   "source": [
    "with open('../../todoESC.txt') as f:\n",
    "    d = [i.strip('\\n') for i in f.readlines()]\n"
   ]
  },
  {
   "cell_type": "code",
   "execution_count": 8,
   "id": "07439b6f",
   "metadata": {},
   "outputs": [],
   "source": [
    "import shutil\n",
    "for f in d:\n",
    "#     p = f.split('.mp4')[0] + '.pt'\n",
    "    shutil.copy('/home/surbhi/ximi/marlin_features_large/' + f + '.pt', '/home/surbhi/ximi/todoESC/' + f + '.pt')"
   ]
  },
  {
   "cell_type": "code",
   "execution_count": 228,
   "id": "ae44825f",
   "metadata": {},
   "outputs": [],
   "source": [
    "marlin_feature_type = 'small'\n",
    "import pandas as pd\n",
    "labels = load_labels()\n",
    "\n",
    "errors = []\n",
    "processed = []\n",
    "# ['chunks/' + f.strip('.pt') for f in proc]\n",
    "\n",
    "todo = list(set([f['chunk'] for f in labels.to_dict(orient='records')]) - set(processed))"
   ]
  },
  {
   "cell_type": "code",
   "execution_count": 230,
   "id": "d0aa71a4",
   "metadata": {},
   "outputs": [
    {
     "data": {
      "text/plain": [
       "1425.75"
      ]
     },
     "execution_count": 230,
     "metadata": {},
     "output_type": "execute_result"
    }
   ],
   "source": [
    "len(todo)/8"
   ]
  },
  {
   "cell_type": "code",
   "execution_count": 231,
   "id": "77ef7d04",
   "metadata": {},
   "outputs": [],
   "source": [
    "curr = 0\n",
    "for i in range(8):\n",
    "    with open(f'todo{i}.txt', 'w') as f:\n",
    "        for e in todo[curr: curr+1426]:\n",
    "            f.write(e)\n",
    "            f.write('\\n')\n",
    "        curr += 1426\n",
    "    "
   ]
  },
  {
   "cell_type": "code",
   "execution_count": 19,
   "id": "0a7bd2a4",
   "metadata": {},
   "outputs": [],
   "source": [
    "import os\n",
    "proc = os.listdir('marlin_features_small/')"
   ]
  },
  {
   "cell_type": "code",
   "execution_count": 31,
   "id": "8e9a9bc6",
   "metadata": {},
   "outputs": [],
   "source": [
    "# list(set(todo) - set(['chunks/'+f.strip('.pt') for f in proc]))"
   ]
  },
  {
   "cell_type": "code",
   "execution_count": 32,
   "id": "ae82af9b",
   "metadata": {},
   "outputs": [
    {
     "data": {
      "text/plain": [
       "74"
      ]
     },
     "execution_count": 32,
     "metadata": {},
     "output_type": "execute_result"
    }
   ],
   "source": [
    "len(read_file('todo0.txt'))"
   ]
  },
  {
   "cell_type": "code",
   "execution_count": 1,
   "id": "85cac57b",
   "metadata": {},
   "outputs": [],
   "source": [
    "import torch\n",
    "import glob\n",
    "features = glob.glob('../data/marlin_features_large/*')"
   ]
  },
  {
   "cell_type": "code",
   "execution_count": null,
   "id": "a7b2fb61",
   "metadata": {},
   "outputs": [],
   "source": []
  },
  {
   "cell_type": "code",
   "execution_count": 3,
   "id": "d415e40d",
   "metadata": {},
   "outputs": [],
   "source": [
    "marlin_features = []\n",
    "for f in features:\n",
    "    marlin_features.append(torch.load(f))"
   ]
  },
  {
   "cell_type": "code",
   "execution_count": 4,
   "id": "dc0c0845",
   "metadata": {},
   "outputs": [
    {
     "data": {
      "text/plain": [
       "(array([  1,   2,   3,   4,   5,   6,   7,   8,   9,  10,  23,  33,  38,\n",
       "         41,  48,  70,  78,  96,  99, 102, 112, 130, 156, 158, 165, 166,\n",
       "        167, 169, 174, 176, 200, 210, 224, 239, 245, 279, 288, 292, 307,\n",
       "        312]),\n",
       " array([  49,  168,  220,  588,  130,  104,   39,   73, 8637,   61,    1,\n",
       "           1,    1,    1,    1,    1,   97,    1,    1,    1,    1,    1,\n",
       "           1,    1,    1,    1,    1,    1,    1,    1,    1,    1,    1,\n",
       "           1,    1,    1,    1,    1,    1, 1012]))"
      ]
     },
     "execution_count": 4,
     "metadata": {},
     "output_type": "execute_result"
    }
   ],
   "source": [
    "import numpy as np\n",
    "arr = np.array([f.shape[0] for f in marlin_features])\n",
    "\n",
    "np.unique(arr, return_counts=True)"
   ]
  },
  {
   "cell_type": "code",
   "execution_count": 11,
   "id": "e909990b",
   "metadata": {},
   "outputs": [
    {
     "data": {
      "text/plain": [
       "(1024,)"
      ]
     },
     "execution_count": 11,
     "metadata": {},
     "output_type": "execute_result"
    }
   ],
   "source": [
    "arr[0].shape"
   ]
  },
  {
   "cell_type": "code",
   "execution_count": 68,
   "id": "3446920d",
   "metadata": {},
   "outputs": [
    {
     "data": {
      "text/plain": [
       "array([1, 2, 3, 4, 4, 0, 0])"
      ]
     },
     "execution_count": 68,
     "metadata": {},
     "output_type": "execute_result"
    }
   ],
   "source": [
    "a = np.array([1,2,3,4,4])\n",
    "np.pad(a, [(0, 2)], mode='constant', constant_values=0)"
   ]
  },
  {
   "cell_type": "code",
   "execution_count": 76,
   "id": "5c008e0c",
   "metadata": {},
   "outputs": [
    {
     "data": {
      "text/plain": [
       "(9, 384)"
      ]
     },
     "execution_count": 76,
     "metadata": {},
     "output_type": "execute_result"
    }
   ],
   "source": [
    "# for small\n",
    "np.pad(f.cpu(), [(0, 0)], mode='constant', constant_values=0).shape"
   ]
  },
  {
   "cell_type": "code",
   "execution_count": 5,
   "id": "8da581ae",
   "metadata": {},
   "outputs": [],
   "source": [
    "def sample(arr, max_len=9):\n",
    "    hop = int(len(arr)/max_len)\n",
    "    if len(arr) < max_len:\n",
    "        \n",
    "        return np.pad(arr, [(0, max_len - len(arr)), (0,0)], mode='constant', constant_values=0)\n",
    "    \n",
    "    if len(arr) == max_len:\n",
    "        return arr\n",
    "    \n",
    "    samples = []\n",
    "    for i in range(0, len(arr), hop):\n",
    "        samples.append(list(arr[i]))\n",
    "#         print (arr[i].shape)\n",
    "        if len(samples) == max_len:\n",
    "            return np.array(samples)\n",
    "    \n"
   ]
  },
  {
   "cell_type": "code",
   "execution_count": 113,
   "id": "4388fc07",
   "metadata": {},
   "outputs": [],
   "source": [
    "# tests = []\n",
    "# for f in marlin_features:\n",
    "#     if f.shape[0] > 9:\n",
    "#         tests.append(f)"
   ]
  },
  {
   "cell_type": "code",
   "execution_count": 6,
   "id": "9b5ccf20",
   "metadata": {},
   "outputs": [],
   "source": [
    "# arr = tests[-1].cpu()\n",
    "from tqdm import tqdm"
   ]
  },
  {
   "cell_type": "code",
   "execution_count": 15,
   "id": "5c64d6b1",
   "metadata": {},
   "outputs": [
    {
     "name": "stderr",
     "output_type": "stream",
     "text": [
      "100%|██████████████████████████████████████████████████████████████████████████████████████████████████| 11206/11206 [00:04<00:00, 2402.09it/s]\n"
     ]
    }
   ],
   "source": [
    "errs = []\n",
    "sampled_features = []\n",
    "for f in tqdm(features):\n",
    "    arr = torch.load(f).cpu().numpy()\n",
    "    arr = sample(arr)\n",
    "    if arr.shape[1] != 1024:\n",
    "        errs.append(arr)\n",
    "        continue\n",
    "    name = 'chunks/' + f.strip('.pt').split('/')[-1]\n",
    "    sampled_features.append((name, arr, labels_map[name]))"
   ]
  },
  {
   "cell_type": "code",
   "execution_count": 16,
   "id": "924131c3",
   "metadata": {},
   "outputs": [
    {
     "data": {
      "text/plain": [
       "('chunks/2020csb1086@iitrpr.ac.in-z2gx0nezbr-0-video_7.mp4',\n",
       " array([[-0.08430132, -0.12361335,  0.21771559, ..., -0.25920394,\n",
       "          0.07247682,  0.18890531],\n",
       "        [-0.10391595, -0.14875035,  0.1751163 , ..., -0.24888532,\n",
       "          0.0942831 ,  0.20590289],\n",
       "        [-0.08567719, -0.13253963,  0.20635292, ..., -0.26200226,\n",
       "          0.06447093,  0.17006311],\n",
       "        ...,\n",
       "        [-0.10507207, -0.16004822,  0.2488413 , ..., -0.2218732 ,\n",
       "          0.09140521,  0.1684828 ],\n",
       "        [-0.11147578, -0.14911447,  0.24085946, ..., -0.23567176,\n",
       "          0.10284477,  0.17793702],\n",
       "        [-0.0870515 , -0.15794396,  0.2424723 , ..., -0.23055358,\n",
       "          0.10064396,  0.18524289]], dtype=float32),\n",
       " 'Highly-Engaged')"
      ]
     },
     "execution_count": 16,
     "metadata": {},
     "output_type": "execute_result"
    }
   ],
   "source": [
    "sampled_features[0]"
   ]
  },
  {
   "cell_type": "code",
   "execution_count": 17,
   "id": "dbbc24da",
   "metadata": {},
   "outputs": [],
   "source": [
    "sampled_features = np.array(sampled_features, dtype='object')"
   ]
  },
  {
   "cell_type": "code",
   "execution_count": 18,
   "id": "6eea6b17",
   "metadata": {},
   "outputs": [],
   "source": [
    "np.save('Xy_marlin_features_large.npy', sampled_features)"
   ]
  },
  {
   "cell_type": "code",
   "execution_count": 14,
   "id": "74320413",
   "metadata": {},
   "outputs": [],
   "source": [
    "import pandas as pd\n",
    "labels = pd.read_csv('../data/final_labels.csv')\n",
    "labels_map = {}\n",
    "for label in labels.to_dict(orient='records'):\n",
    "    labels_map[label['chunk']] = label['label']\n"
   ]
  },
  {
   "cell_type": "code",
   "execution_count": 214,
   "id": "01333eab",
   "metadata": {},
   "outputs": [
    {
     "data": {
      "text/plain": [
       "'marlin_features_small/pramanshuarya@gmail.com-37kn4gou0j-2-video_11.mp4'"
      ]
     },
     "execution_count": 214,
     "metadata": {},
     "output_type": "execute_result"
    }
   ],
   "source": [
    "f.strip('.pt')"
   ]
  },
  {
   "cell_type": "code",
   "execution_count": 220,
   "id": "ce658b9e",
   "metadata": {},
   "outputs": [],
   "source": [
    "with open('train.txt', 'a') as f:\n",
    "    data = read_file('valid.txt')\n",
    "    for d in data:\n",
    "        f.write(d)\n",
    "        f.write('\\n')"
   ]
  },
  {
   "cell_type": "code",
   "execution_count": 20,
   "id": "def5b382",
   "metadata": {},
   "outputs": [],
   "source": [
    "# read_file('train.txt')"
   ]
  },
  {
   "cell_type": "code",
   "execution_count": 23,
   "id": "82b2afd3",
   "metadata": {},
   "outputs": [],
   "source": [
    "import numpy as np\n",
    "feature_type = 'engage_gaze+hp+au+lmk+pdm'\n",
    "Xy = np.load(f'Xy_{feature_type}.npy', allow_pickle=True)"
   ]
  },
  {
   "cell_type": "code",
   "execution_count": 19,
   "id": "3c077374",
   "metadata": {},
   "outputs": [],
   "source": [
    "# for x in Xy:\n",
    "#     try:\n",
    "#         x[1].shape\n",
    "        \n",
    "#     except:\n",
    "#         print (type(x[1])"
   ]
  },
  {
   "cell_type": "code",
   "execution_count": 20,
   "id": "38e520e8",
   "metadata": {},
   "outputs": [],
   "source": [
    "Xy = [x for x in Xy if len(x[1]) != 0]"
   ]
  },
  {
   "cell_type": "code",
   "execution_count": 26,
   "id": "0e3cdccf",
   "metadata": {},
   "outputs": [
    {
     "data": {
      "text/plain": [
       "array(['chunks/usma.20csz0015@iitrpr.ac.in-j489ubvnol-0-video_0.mp4',\n",
       "       array([[-0.14641769,  0.04864785, -0.98797643, ...,  0.07352878,\n",
       "                0.03628272,  0.08239036],\n",
       "              [-0.05827138,  0.12800312, -0.98945197, ...,  0.14537832,\n",
       "                0.14466505,  0.077251  ],\n",
       "              [-0.03967236,  0.12908675, -0.99073966, ...,  0.08832757,\n",
       "                0.04017722,  0.05937216],\n",
       "              ...,\n",
       "              [-0.0602397 ,  0.23109227, -0.96659063, ...,  0.17050483,\n",
       "                0.1291142 ,  0.04481384],\n",
       "              [-0.16780549,  0.1977595 , -0.96518446, ...,  0.12339026,\n",
       "                0.0533914 ,  0.05826397],\n",
       "              [-0.14624082,  0.18145725, -0.97167954, ...,  0.10601525,\n",
       "                0.0482559 ,  0.12645157]])                             ,\n",
       "       'Barely-engaged'], dtype=object)"
      ]
     },
     "execution_count": 26,
     "metadata": {},
     "output_type": "execute_result"
    }
   ],
   "source": [
    "Xy[0]"
   ]
  },
  {
   "cell_type": "markdown",
   "id": "e2f9b4e9",
   "metadata": {},
   "source": [
    "### Bodypose"
   ]
  },
  {
   "cell_type": "code",
   "execution_count": 52,
   "id": "75549abc",
   "metadata": {},
   "outputs": [
    {
     "name": "stdout",
     "output_type": "stream",
     "text": [
      "9875\n"
     ]
    }
   ],
   "source": [
    "import utils\n",
    "Xy_bodypose = np.load('../data/Xy_engage_bodypose.npy', allow_pickle=True)\n",
    "Xy_bodypose = utils.cleanXy(Xy_bodypose)\n",
    "print (len(Xy_bodypose))"
   ]
  },
  {
   "cell_type": "code",
   "execution_count": 53,
   "id": "2ca6b679",
   "metadata": {},
   "outputs": [
    {
     "name": "stdout",
     "output_type": "stream",
     "text": [
      "11048\n"
     ]
    }
   ],
   "source": [
    "Xy_openface = np.load('../data/Xy_engage_gaze+hp+au+lmk+pdm.npy', allow_pickle=True)\n",
    "Xy_openface = utils.cleanXy(Xy_openface)\n",
    "print (len(Xy_openface))"
   ]
  },
  {
   "cell_type": "code",
   "execution_count": 54,
   "id": "7b7a26d1",
   "metadata": {},
   "outputs": [],
   "source": [
    "Xy_map = {}\n",
    "for x in Xy_openface:\n",
    "    Xy_map[x[0]] = x\n",
    "    "
   ]
  },
  {
   "cell_type": "code",
   "execution_count": 56,
   "id": "747928ff",
   "metadata": {},
   "outputs": [],
   "source": [
    "Xy = []\n",
    "for x in Xy_bodypose:\n",
    "    try:\n",
    "        name = x[0]\n",
    "        feature = np.hstack((x[1], Xy_map[x[0]][1]))\n",
    "        label = Xy_map[x[0]][2] \n",
    "        Xy.append((name, feature, label))\n",
    "    except KeyError:\n",
    "        pass\n"
   ]
  },
  {
   "cell_type": "code",
   "execution_count": 60,
   "id": "3aebce4b",
   "metadata": {},
   "outputs": [],
   "source": [
    "np.save('../data/Xy_engage_openface_bodypose.npy', np.array(Xy, dtype='object'))"
   ]
  },
  {
   "cell_type": "code",
   "execution_count": 57,
   "id": "b7632d16",
   "metadata": {},
   "outputs": [
    {
     "data": {
      "text/plain": [
       "9740"
      ]
     },
     "execution_count": 57,
     "metadata": {},
     "output_type": "execute_result"
    }
   ],
   "source": [
    "len(Xy)"
   ]
  },
  {
   "cell_type": "markdown",
   "id": "93049be1",
   "metadata": {},
   "source": [
    "### XCLIP"
   ]
  },
  {
   "cell_type": "code",
   "execution_count": 61,
   "id": "390994be",
   "metadata": {},
   "outputs": [],
   "source": [
    "import glob\n",
    "features = glob.glob('../data/XCLIP-Features/*.npy')"
   ]
  },
  {
   "cell_type": "code",
   "execution_count": 63,
   "id": "c316ff0c",
   "metadata": {},
   "outputs": [],
   "source": [
    "X = np.load(features[0], allow_pickle=True)"
   ]
  },
  {
   "cell_type": "code",
   "execution_count": 69,
   "id": "a664cfcc",
   "metadata": {},
   "outputs": [],
   "source": [
    "\n",
    "Xy = []\n",
    "label_map = {}\n",
    "for label in labels.to_dict(orient='records'):\n",
    "    label_map[label['chunk']] = label['label']"
   ]
  },
  {
   "cell_type": "code",
   "execution_count": 82,
   "id": "8ce34117",
   "metadata": {},
   "outputs": [],
   "source": [
    "for f in features:\n",
    "    X = np.load(f, allow_pickle=True).flatten()\n",
    "    key = 'chunks/' + f.strip('.npy').split('/')[-1] + '.mp4'\n",
    "    Xy.append((key, X, label_map[key]))\n",
    "    "
   ]
  },
  {
   "cell_type": "code",
   "execution_count": 85,
   "id": "c8770cda",
   "metadata": {},
   "outputs": [],
   "source": [
    "np.save('../data/Xy_engage_xclip.npy', np.array(Xy, dtype='object'))"
   ]
  },
  {
   "cell_type": "code",
   "execution_count": 6,
   "id": "ed01b283",
   "metadata": {},
   "outputs": [],
   "source": [
    "from sklearn.svm import LinearSVC"
   ]
  },
  {
   "cell_type": "code",
   "execution_count": 1,
   "id": "ccc71264",
   "metadata": {},
   "outputs": [],
   "source": [
    "from data_prep import data_loader_v1"
   ]
  },
  {
   "cell_type": "code",
   "execution_count": 2,
   "id": "df241f2b",
   "metadata": {},
   "outputs": [],
   "source": [
    "train, test = data_loader_v1('engage_xclip', False, False, '../data')"
   ]
  },
  {
   "cell_type": "code",
   "execution_count": 4,
   "id": "285a1aa3",
   "metadata": {},
   "outputs": [],
   "source": [
    "train_x, train_y = train\n",
    "test_x, test_y = test"
   ]
  },
  {
   "cell_type": "code",
   "execution_count": 62,
   "id": "3f052ccd",
   "metadata": {},
   "outputs": [
    {
     "data": {
      "text/plain": [
       "LinearSVC(C=1e-05,\n",
       "          class_weight={0: 1.417934093789607, 1: 1.9765901060070672,\n",
       "                        2: 1.1587260486794406, 3: 0.5192620097470411})"
      ]
     },
     "execution_count": 62,
     "metadata": {},
     "output_type": "execute_result"
    }
   ],
   "source": [
    "clf = LinearSVC(C=0.00001, class_weight=class_weight)\n",
    "clf.fit(train_x, train_y)"
   ]
  },
  {
   "cell_type": "code",
   "execution_count": 63,
   "id": "a575faaf",
   "metadata": {},
   "outputs": [],
   "source": [
    "preds = clf.predict(test_x)"
   ]
  },
  {
   "cell_type": "code",
   "execution_count": 64,
   "id": "d0301b99",
   "metadata": {},
   "outputs": [
    {
     "data": {
      "text/plain": [
       "0.6356382978723404"
      ]
     },
     "execution_count": 64,
     "metadata": {},
     "output_type": "execute_result"
    }
   ],
   "source": [
    "from sklearn.metrics import accuracy_score\n",
    "accuracy_score(preds, test_y)"
   ]
  },
  {
   "cell_type": "code",
   "execution_count": 61,
   "id": "a27e8cb1",
   "metadata": {},
   "outputs": [],
   "source": [
    "from sklearn.metrics import classification_report"
   ]
  },
  {
   "cell_type": "code",
   "execution_count": 66,
   "id": "c16948a0",
   "metadata": {},
   "outputs": [
    {
     "name": "stdout",
     "output_type": "stream",
     "text": [
      "              precision    recall  f1-score   support\n",
      "\n",
      "           0       0.69      0.63      0.66       505\n",
      "           1       0.17      0.33      0.22       124\n",
      "           2       0.16      0.41      0.24       167\n",
      "           3       0.89      0.69      0.78      1460\n",
      "\n",
      "    accuracy                           0.64      2256\n",
      "   macro avg       0.48      0.51      0.47      2256\n",
      "weighted avg       0.75      0.64      0.68      2256\n",
      "\n"
     ]
    }
   ],
   "source": [
    "print (classification_report(preds, test_y))"
   ]
  },
  {
   "cell_type": "code",
   "execution_count": 38,
   "id": "0663d15b",
   "metadata": {},
   "outputs": [
    {
     "data": {
      "text/plain": [
       "(array([0, 1, 2, 3]), array([1578, 1132, 1931, 4309]))"
      ]
     },
     "execution_count": 38,
     "metadata": {},
     "output_type": "execute_result"
    }
   ],
   "source": [
    "import numpy as np\n",
    "np.unique(train_y, return_counts=True)"
   ]
  },
  {
   "cell_type": "code",
   "execution_count": 40,
   "id": "f032829f",
   "metadata": {},
   "outputs": [],
   "source": [
    "total = train_x.shape[0]\n",
    "class_weight = {\n",
    "        k: (1 / train_y[train_y==k].shape[0]) * (total / 4) for k in np.unique(train_y)\n",
    "    }"
   ]
  },
  {
   "cell_type": "code",
   "execution_count": 41,
   "id": "c2fadec7",
   "metadata": {},
   "outputs": [
    {
     "data": {
      "text/plain": [
       "{0: 1.417934093789607,\n",
       " 1: 1.9765901060070672,\n",
       " 2: 1.1587260486794406,\n",
       " 3: 0.5192620097470411}"
      ]
     },
     "execution_count": 41,
     "metadata": {},
     "output_type": "execute_result"
    }
   ],
   "source": [
    "class_weight"
   ]
  },
  {
   "cell_type": "markdown",
   "id": "07899dcd",
   "metadata": {},
   "source": [
    "### Engage Features"
   ]
  },
  {
   "cell_type": "code",
   "execution_count": 157,
   "id": "8cae8816",
   "metadata": {},
   "outputs": [],
   "source": [
    "import glob\n",
    "import numpy as np\n",
    "import pandas as pd\n",
    "import os\n",
    "\n",
    "n_segments = 10\n",
    "def get_features(input_segment, features):\n",
    "    if len(input_segment) == 0:\n",
    "        return []\n",
    "    input_segment = input_segment.astype(float)\n",
    "    \n",
    "    gaze_direction = input_segment[:, 5:11]\n",
    "    gaze_angle = input_segment[:, 11:13]\n",
    "    \n",
    "\n",
    "    gaze_direction_std = np.std(gaze_direction, axis=0)\n",
    "    gaze_dircetion_mean = np.mean(gaze_direction, axis=0)\n",
    "    \n",
    "    gaze_angle_std = np.std(gaze_angle, axis=0)\n",
    "    gaze_angle_mean = np.mean(gaze_angle, axis=0)\n",
    "    \n",
    "    head_pose_xy_std = np.std(input_segment[:, 293:296], axis=0) \n",
    "    head_pose_xy_mean = np.mean(input_segment[:, 293:296], axis=0)\n",
    "    \n",
    "\n",
    "    head_pose_theta_std = np.std(input_segment[:, 296: 299], axis=0) \n",
    "    head_pose_theta_mean = np.mean(input_segment[:, 296: 299], axis=0)\n",
    "    \n",
    "    lmk_mean = np.mean(input_segment[:, 299: 435], axis=0)\n",
    "    lmk_std = np.std(input_segment[:, 299: 435], axis=0)\n",
    "    \n",
    "    au = input_segment[:, 679:]\n",
    "    au_mean = np.mean(au, axis=0)\n",
    "    au_std = np.std(au, axis=0)\n",
    "    \n",
    "    \n",
    "    pdm = input_segment[:, 639: 679]\n",
    "    pdm_mean = np.mean(pdm, axis=0)\n",
    "    pdm_std = np.std(pdm, axis=0)\n",
    "\n",
    "    if features == \"gaze+hp+au\":\n",
    "        segment_features = np.hstack((\n",
    "            gaze_direction_std, \n",
    "            gaze_dircetion_mean, \n",
    "            gaze_angle_std, \n",
    "            gaze_angle_mean,\n",
    "            head_pose_xy_std,\n",
    "            head_pose_xy_mean,\n",
    "            head_pose_theta_std,\n",
    "            head_pose_theta_mean,\n",
    "            au_mean, \n",
    "            au_std))\n",
    "        \n",
    "        return segment_features\n",
    "    \n",
    "    elif features == \"gaze+hp\":\n",
    "        segment_features = np.hstack((\n",
    "                                      gaze_dircetion_mean,\n",
    "                                      gaze_direction_std,\n",
    "                                      head_pose_xy_std,\n",
    "                                      head_pose_xy_mean,\n",
    "                                      head_pose_theta_std,\n",
    "                                      head_pose_theta_mean,\n",
    "                                    ))\n",
    "        return segment_features\n",
    "    elif features == 'gaze+hp+au+lmk':\n",
    "        segment_features = np.hstack((gaze_dircetion_mean,\n",
    "                                      gaze_direction_std,\n",
    "                                      gaze_angle_std, \n",
    "                                      gaze_angle_mean,\n",
    "                                      \n",
    "                                      head_pose_xy_std,\n",
    "                                      head_pose_xy_mean,\n",
    "                                      head_pose_theta_std,\n",
    "                                      head_pose_theta_mean,\n",
    "                                      au_mean, \n",
    "                                      au_std,\n",
    "                                      \n",
    "                                      lmk_mean, \n",
    "                                      lmk_std))\n",
    "        return segment_features\n",
    "    elif features == 'gaze+hp+au+lmk+pdm':\n",
    "        segment_features = np.hstack((gaze_dircetion_mean,\n",
    "                                      gaze_direction_std,\n",
    "                                      gaze_angle_std, \n",
    "                                      gaze_angle_mean,\n",
    "                                      \n",
    "                                      head_pose_xy_std,\n",
    "                                      head_pose_xy_mean,\n",
    "                                      head_pose_theta_std,\n",
    "                                      head_pose_theta_mean,\n",
    "                                      au_mean, \n",
    "                                      au_std,\n",
    "                                      \n",
    "                                      lmk_mean, \n",
    "                                      lmk_std,\n",
    "                                     \n",
    "                                      pdm_mean,\n",
    "                                      pdm_std))\n",
    "        return segment_features\n",
    "    \n",
    "                                   \n",
    "    \n",
    "        "
   ]
  },
  {
   "cell_type": "code",
   "execution_count": 158,
   "id": "3ddb3727",
   "metadata": {},
   "outputs": [],
   "source": [
    "def parse_features(openface_feature_file_path, features):\n",
    "    \n",
    "    df = pd.read_csv(openface_feature_file_path).dropna()\n",
    "    df.columns = [i.strip() for i in list(df.columns)]\n",
    "    df = df[df['confidence']>0.95].values\n",
    "\n",
    "    window_size = int(df.shape[0]/n_segments)\n",
    "    if window_size < 1:\n",
    "        return (openface_feature_file_path, [])\n",
    "    instance_features = []\n",
    "    start_index = 0\n",
    "    for i in range(n_segments):\n",
    "        if i == n_segments - 1:\n",
    "            end_index = df.shape[0]\n",
    "        else:\n",
    "            end_index = start_index + window_size\n",
    "        \n",
    "        # update here for our dataset\n",
    "        index_features = get_features(df[start_index:end_index, :], features)\n",
    "        if len(index_features):\n",
    "            instance_features.append(index_features)\n",
    "        start_index = start_index + window_size\n",
    "    \n",
    "    \n",
    "    instance_features = np.vstack(instance_features)\n",
    "#     assert instance_features.shape[0] == 20, \"shape issue\"\n",
    "    return instance_features\n",
    "\n",
    "\n"
   ]
  },
  {
   "cell_type": "code",
   "execution_count": 80,
   "id": "1a06884e",
   "metadata": {},
   "outputs": [],
   "source": [
    "from tqdm import tqdm\n"
   ]
  },
  {
   "cell_type": "code",
   "execution_count": 102,
   "id": "e9e7f227",
   "metadata": {},
   "outputs": [],
   "source": [
    "def extract_subject(fname):\n",
    "    return fname.split('-')[0].split('/')[-1]\n",
    "def path_to_csv(fname):\n",
    "    return fname.split('.mp4')[0] + '.csv'\n",
    "def path_to_mp4(fname):\n",
    "    return fname.split('.csv')[0] + '.mp4'"
   ]
  },
  {
   "cell_type": "code",
   "execution_count": 159,
   "id": "2028d856",
   "metadata": {},
   "outputs": [],
   "source": [
    "_errors_ = []\n",
    "def extract_features_engage(feature_type):\n",
    "    labels = pd.read_csv('../data/final_labels.csv')\n",
    "    data = []\n",
    "    for f in tqdm(labels.to_dict(orient='records')):\n",
    "\n",
    "        try:\n",
    "            \n",
    "            fname = path_to_csv(f['chunk'])\n",
    "            fname = '../data/open_face_results/' + fname.split('/')[-1]\n",
    "            features = parse_features(fname, feature_type)\n",
    "            data.append((fname, \n",
    "                         features, \n",
    "                         f['label']\n",
    "                       ))\n",
    "        except FileNotFoundError:\n",
    "            _errors_.append(fname)\n",
    "        except AssertionError:\n",
    "            print (\"assert: \", _file)\n",
    "    return data"
   ]
  },
  {
   "cell_type": "code",
   "execution_count": 166,
   "id": "30516e77",
   "metadata": {},
   "outputs": [
    {
     "name": "stderr",
     "output_type": "stream",
     "text": [
      "100%|████████████████████████████████████████████████████████████████████████████████████████████████████| 11620/11620 [13:28<00:00, 14.37it/s]\n"
     ]
    }
   ],
   "source": [
    "feature_type = 'gaze+hp'\n",
    "data = extract_features_engage(feature_type)"
   ]
  },
  {
   "cell_type": "code",
   "execution_count": 161,
   "id": "eb0762e8",
   "metadata": {},
   "outputs": [
    {
     "data": {
      "text/plain": [
       "('../data/open_face_results/usma.20csz0015@iitrpr.ac.in-j489ubvnol-0-video_0.csv',\n",
       " array([[ 4.72424791e-02,  4.39787840e-02,  1.56650778e-03,\n",
       "          3.69804570e-02,  3.55930822e-02,  3.76496414e-03,\n",
       "         -1.02344535e-01,  8.83254830e-02, -9.88714200e-01,\n",
       "         -1.96841843e-01,  9.90571030e-02, -9.74059733e-01,\n",
       "          4.09109063e-02,  3.97099302e-02, -1.51088000e-01,\n",
       "          9.49620000e-02,  2.30068664e-01,  2.53937866e-01,\n",
       "          5.94371727e-01,  3.02529000e+01,  3.71334000e+01,\n",
       "          4.13723500e+02,  2.35191752e-03,  2.25380367e-03,\n",
       "          2.33707082e-03, -2.19780000e-02,  1.10963000e-01,\n",
       "         -7.91900000e-02,  8.30800000e-02,  5.62000000e-02,\n",
       "          7.79090000e-01,  4.89700000e-02,  0.00000000e+00,\n",
       "          0.00000000e+00,  2.44700000e-02,  4.51390000e-01,\n",
       "          3.54460000e-01,  7.70190000e-01,  1.39054000e+00,\n",
       "          1.33455000e+00,  9.62000000e-03,  0.00000000e+00,\n",
       "          2.27410000e-01,  6.49250000e-01,  5.81100000e-02,\n",
       "          0.00000000e+00,  2.15000000e-01,  0.00000000e+00,\n",
       "          7.73000000e-01,  0.00000000e+00,  0.00000000e+00,\n",
       "          0.00000000e+00,  0.00000000e+00,  0.00000000e+00,\n",
       "          1.00000000e+00,  6.00000000e-03,  6.47000000e-01,\n",
       "          0.00000000e+00,  0.00000000e+00,  2.03000000e-01,\n",
       "          0.00000000e+00,  0.00000000e+00,  0.00000000e+00,\n",
       "          7.92686167e-02,  7.27527319e-02,  1.25866087e-01,\n",
       "          6.64623134e-02,  0.00000000e+00,  0.00000000e+00,\n",
       "          3.14152686e-02,  1.02571770e-01,  6.40336505e-02,\n",
       "          1.10248192e-01,  1.33947409e-01,  9.56712992e-02,\n",
       "          2.62422484e-02,  0.00000000e+00,  1.35891103e-01,\n",
       "          1.02202434e-01,  1.06940768e-01,  0.00000000e+00,\n",
       "          4.10822346e-01,  0.00000000e+00,  4.18892588e-01,\n",
       "          0.00000000e+00,  0.00000000e+00,  0.00000000e+00,\n",
       "          0.00000000e+00,  0.00000000e+00,  0.00000000e+00,\n",
       "          7.72269383e-02,  4.77902710e-01,  0.00000000e+00,\n",
       "          0.00000000e+00,  4.02232520e-01,  0.00000000e+00,\n",
       "          0.00000000e+00,  0.00000000e+00],\n",
       "        [ 4.36931731e-02,  4.90678156e-02,  9.39131578e-03,\n",
       "          3.59783163e-02,  6.07159683e-02,  1.90478883e-02,\n",
       "         -2.01023470e-02,  1.46112652e-01, -9.86834357e-01,\n",
       "         -1.65343724e-01,  1.58429749e-01, -9.70679033e-01,\n",
       "          1.29834966e-02,  5.68475225e-02, -9.43960000e-02,\n",
       "          1.54572000e-01,  6.28406485e-01,  4.44930377e-01,\n",
       "          1.38301879e+00,  3.12773000e+01,  3.76764000e+01,\n",
       "          4.15464800e+02,  5.24989105e-03,  3.71707358e-03,\n",
       "          4.22811719e-03, -2.07620000e-02,  1.09058000e-01,\n",
       "         -7.32050000e-02,  2.60910000e-01,  2.51090000e-01,\n",
       "          8.68960000e-01,  5.44000000e-03,  0.00000000e+00,\n",
       "          0.00000000e+00,  5.34400000e-02,  5.81240000e-01,\n",
       "          3.88950000e-01,  8.75800000e-01,  1.26301000e+00,\n",
       "          1.42797000e+00,  5.07700000e-02,  0.00000000e+00,\n",
       "          2.84970000e-01,  5.74930000e-01,  4.81080000e-01,\n",
       "          6.30000000e-02,  0.00000000e+00,  0.00000000e+00,\n",
       "          2.19000000e-01,  0.00000000e+00,  0.00000000e+00,\n",
       "          0.00000000e+00,  0.00000000e+00,  0.00000000e+00,\n",
       "          1.00000000e+00,  2.70000000e-02,  7.49000000e-01,\n",
       "          0.00000000e+00,  0.00000000e+00,  1.12000000e-01,\n",
       "          0.00000000e+00,  0.00000000e+00,  2.53000000e-01,\n",
       "          2.34740009e-01,  1.67100903e-01,  1.75545203e-01,\n",
       "          2.32337341e-02,  0.00000000e+00,  0.00000000e+00,\n",
       "          6.28758014e-02,  9.04547533e-02,  5.34396622e-02,\n",
       "          1.18685972e-01,  1.10470086e-01,  1.02458670e-01,\n",
       "          7.44090525e-02,  0.00000000e+00,  1.37356467e-01,\n",
       "          1.45367793e-01,  6.73865145e-01,  2.42962960e-01,\n",
       "          0.00000000e+00,  0.00000000e+00,  4.13568616e-01,\n",
       "          0.00000000e+00,  0.00000000e+00,  0.00000000e+00,\n",
       "          0.00000000e+00,  0.00000000e+00,  0.00000000e+00,\n",
       "          1.62083312e-01,  4.33588515e-01,  0.00000000e+00,\n",
       "          0.00000000e+00,  3.15366454e-01,  0.00000000e+00,\n",
       "          0.00000000e+00,  4.34730951e-01],\n",
       "        [ 3.95865467e-02,  4.84818682e-02,  1.08552319e-02,\n",
       "          3.38243025e-02,  6.07802077e-02,  1.84164406e-02,\n",
       "          1.05897480e-02,  1.64157337e-01, -9.84329622e-01,\n",
       "         -1.68187246e-01,  1.72960909e-01, -9.67791346e-01,\n",
       "          1.66087783e-02,  5.65157846e-02, -8.04780000e-02,\n",
       "          1.71217000e-01,  3.38257683e+00,  3.91941479e+00,\n",
       "          5.91045802e+00,  3.45049000e+01,  3.39387000e+01,\n",
       "          4.20055100e+02,  9.54857639e-03,  1.54376306e-02,\n",
       "          2.63737933e-02, -2.78830000e-02,  9.18310000e-02,\n",
       "         -5.35950000e-02,  1.75710000e-01,  2.23430000e-01,\n",
       "          7.14750000e-01,  2.70000000e-03,  5.93000000e-03,\n",
       "          0.00000000e+00,  7.01000000e-03,  3.02920000e-01,\n",
       "          5.91540000e-01,  1.35631000e+00,  8.68170000e-01,\n",
       "          8.91530000e-01,  3.70880000e-01,  1.50300000e-02,\n",
       "          3.45300000e-01,  4.13330000e-01,  6.45840000e-01,\n",
       "          1.24000000e-01,  1.00000000e-01,  0.00000000e+00,\n",
       "          2.61000000e-01,  0.00000000e+00,  0.00000000e+00,\n",
       "          0.00000000e+00,  0.00000000e+00,  2.31000000e-01,\n",
       "          1.00000000e+00,  6.90000000e-02,  2.81000000e-01,\n",
       "          1.56000000e-01,  0.00000000e+00,  4.40000000e-02,\n",
       "          0.00000000e+00,  0.00000000e+00,  7.96000000e-01,\n",
       "          2.06617269e-01,  1.89471726e-01,  3.06668449e-01,\n",
       "          1.52613892e-02,  1.92440926e-02,  0.00000000e+00,\n",
       "          1.99789865e-02,  2.42855664e-01,  2.16792132e-01,\n",
       "          4.85213854e-01,  3.65365777e-01,  5.21977738e-01,\n",
       "          3.41417085e-01,  3.71994503e-02,  2.16747572e-01,\n",
       "          2.29139720e-01,  7.27971081e-01,  3.29581553e-01,\n",
       "          3.00000000e-01,  0.00000000e+00,  4.39179918e-01,\n",
       "          0.00000000e+00,  0.00000000e+00,  0.00000000e+00,\n",
       "          0.00000000e+00,  4.21472419e-01,  0.00000000e+00,\n",
       "          2.53454138e-01,  4.49487486e-01,  3.62855343e-01,\n",
       "          0.00000000e+00,  2.05095100e-01,  0.00000000e+00,\n",
       "          0.00000000e+00,  4.02968981e-01],\n",
       "        [ 2.53557199e-02,  4.23184730e-02,  7.19341700e-03,\n",
       "          2.84546739e-02,  3.95498711e-02,  5.60112394e-03,\n",
       "          7.86252700e-03,  1.53495427e-01, -9.86859582e-01,\n",
       "         -1.43661508e-01,  1.43669801e-01, -9.77913660e-01,\n",
       "          1.93338246e-02,  4.08875907e-02, -6.89350000e-02,\n",
       "          1.50077000e-01,  5.04223115e+00,  1.72265265e+00,\n",
       "          1.40960757e+00,  5.53550000e+01,  2.40472000e+01,\n",
       "          4.37265700e+02,  2.22490122e-02,  1.54041786e-02,\n",
       "          2.88200818e-02, -6.58840000e-02,  2.53410000e-02,\n",
       "          9.03780000e-02,  1.26000000e-02,  2.21000000e-03,\n",
       "          1.81200000e-01,  0.00000000e+00,  2.80000000e-03,\n",
       "          0.00000000e+00,  1.17900000e-02,  7.15000000e-03,\n",
       "          1.44620000e-01,  7.91300000e-01,  2.00000000e-03,\n",
       "          4.53700000e-02,  9.84500000e-02,  0.00000000e+00,\n",
       "          1.35426000e+00,  9.85190000e-01,  5.86370000e-01,\n",
       "          2.00000000e-02,  0.00000000e+00,  0.00000000e+00,\n",
       "          6.29000000e-01,  0.00000000e+00,  0.00000000e+00,\n",
       "          0.00000000e+00,  0.00000000e+00,  1.32000000e-01,\n",
       "          7.30000000e-01,  0.00000000e+00,  0.00000000e+00,\n",
       "          5.90000000e-02,  0.00000000e+00,  6.08000000e-01,\n",
       "          6.48000000e-01,  0.00000000e+00,  8.09000000e-01,\n",
       "          2.59853805e-02,  1.18159172e-02,  1.29664799e-01,\n",
       "          0.00000000e+00,  1.11247472e-02,  0.00000000e+00,\n",
       "          2.74061289e-02,  2.02429617e-02,  2.91442714e-01,\n",
       "          5.92514059e-01,  1.21983605e-02,  7.34293068e-02,\n",
       "          2.04188877e-01,  0.00000000e+00,  2.57902021e-01,\n",
       "          6.38927041e-01,  4.45960899e-01,  1.40000000e-01,\n",
       "          0.00000000e+00,  0.00000000e+00,  4.83072458e-01,\n",
       "          0.00000000e+00,  0.00000000e+00,  0.00000000e+00,\n",
       "          0.00000000e+00,  3.38490768e-01,  4.43959458e-01,\n",
       "          0.00000000e+00,  0.00000000e+00,  2.35624702e-01,\n",
       "          0.00000000e+00,  4.88196682e-01,  4.77593970e-01,\n",
       "          0.00000000e+00,  3.93089048e-01],\n",
       "        [ 3.48912622e-02,  4.33181740e-02,  1.32781418e-02,\n",
       "          4.30395512e-02,  2.96778290e-02,  1.25003488e-02,\n",
       "          1.48397830e-02,  2.43877664e-01, -9.68004800e-01,\n",
       "         -1.47116814e-01,  2.24908148e-01, -9.61708655e-01,\n",
       "          3.07726169e-02,  3.73868803e-02, -6.84930000e-02,\n",
       "          2.38428000e-01,  2.32661079e+00,  2.85294233e+00,\n",
       "          1.32831508e+01,  5.71165000e+01,  3.07998000e+01,\n",
       "          4.54884700e+02,  2.64783492e-02,  1.24102061e-02,\n",
       "          8.73235587e-03,  2.88050000e-02,  5.52800000e-03,\n",
       "          8.62810000e-02,  1.26220000e-01,  4.30000000e-04,\n",
       "          1.20160000e-01,  0.00000000e+00,  0.00000000e+00,\n",
       "          6.37000000e-03,  5.59000000e-03,  1.53500000e-02,\n",
       "          2.77670000e-01,  1.26734000e+00,  3.31000000e-03,\n",
       "          5.69000000e-03,  4.07400000e-02,  0.00000000e+00,\n",
       "          1.08764000e+00,  6.23710000e-01,  5.10570000e-01,\n",
       "          3.70000000e-02,  0.00000000e+00,  0.00000000e+00,\n",
       "          2.40000000e-01,  0.00000000e+00,  0.00000000e+00,\n",
       "          0.00000000e+00,  0.00000000e+00,  0.00000000e+00,\n",
       "          1.00000000e+00,  0.00000000e+00,  0.00000000e+00,\n",
       "          4.60000000e-02,  0.00000000e+00,  4.00000000e-01,\n",
       "          4.00000000e-01,  0.00000000e+00,  5.53000000e-01,\n",
       "          1.82608082e-01,  2.84870146e-03,  1.06369988e-01,\n",
       "          0.00000000e+00,  0.00000000e+00,  3.21981847e-02,\n",
       "          1.67705665e-02,  4.69986968e-02,  2.97082600e-01,\n",
       "          4.77526255e-01,  1.40122768e-02,  2.72456217e-02,\n",
       "          8.38454077e-02,  0.00000000e+00,  4.85629520e-01,\n",
       "          6.22997380e-01,  5.27515095e-01,  1.88761755e-01,\n",
       "          0.00000000e+00,  0.00000000e+00,  4.27083130e-01,\n",
       "          0.00000000e+00,  0.00000000e+00,  0.00000000e+00,\n",
       "          0.00000000e+00,  0.00000000e+00,  0.00000000e+00,\n",
       "          0.00000000e+00,  0.00000000e+00,  2.09485083e-01,\n",
       "          0.00000000e+00,  4.89897949e-01,  4.89897949e-01,\n",
       "          0.00000000e+00,  4.97183065e-01],\n",
       "        [ 1.81292239e-02,  7.26446219e-03,  1.80730427e-03,\n",
       "          1.76787395e-02,  1.88971138e-02,  4.05586738e-03,\n",
       "          2.43452330e-02,  2.45247929e-01, -9.68956175e-01,\n",
       "         -7.24101720e-02,  2.28066318e-01, -9.70595925e-01,\n",
       "          1.27386309e-02,  1.08553839e-02, -2.47780000e-02,\n",
       "          2.39371000e-01,  4.31847401e+00,  2.63838147e+00,\n",
       "          3.39192509e+00,  4.07165000e+01,  4.21139000e+01,\n",
       "          4.84869600e+02,  1.88272162e-02,  9.06726855e-03,\n",
       "          1.00214126e-02,  1.28577000e-01, -1.06290000e-02,\n",
       "          5.89830000e-02,  9.30800000e-02,  1.70000000e-04,\n",
       "          1.92350000e-01,  0.00000000e+00,  0.00000000e+00,\n",
       "          1.20000000e-04,  4.44700000e-02,  8.74600000e-02,\n",
       "          3.44780000e-01,  1.89289000e+00,  1.99600000e-02,\n",
       "          2.63880000e-01,  2.57500000e-02,  3.19000000e-03,\n",
       "          2.29140000e-01,  1.02600000e-02,  3.40000000e-04,\n",
       "          0.00000000e+00,  0.00000000e+00,  0.00000000e+00,\n",
       "          3.23000000e-01,  0.00000000e+00,  0.00000000e+00,\n",
       "          0.00000000e+00,  0.00000000e+00,  0.00000000e+00,\n",
       "          1.00000000e+00,  0.00000000e+00,  7.70000000e-02,\n",
       "          0.00000000e+00,  0.00000000e+00,  0.00000000e+00,\n",
       "          0.00000000e+00,  0.00000000e+00,  0.00000000e+00,\n",
       "          1.05012921e-01,  1.91601148e-03,  1.34862068e-01,\n",
       "          0.00000000e+00,  0.00000000e+00,  1.33626345e-03,\n",
       "          6.46368246e-02,  9.57995219e-02,  2.18467278e-01,\n",
       "          1.65043473e-01,  4.75205050e-02,  1.92045686e-01,\n",
       "          5.65211244e-02,  1.07667962e-02,  1.88291955e-01,\n",
       "          3.70423055e-02,  4.10906315e-03,  0.00000000e+00,\n",
       "          0.00000000e+00,  0.00000000e+00,  4.67622711e-01,\n",
       "          0.00000000e+00,  0.00000000e+00,  0.00000000e+00,\n",
       "          0.00000000e+00,  0.00000000e+00,  0.00000000e+00,\n",
       "          0.00000000e+00,  2.66591448e-01,  0.00000000e+00,\n",
       "          0.00000000e+00,  0.00000000e+00,  0.00000000e+00,\n",
       "          0.00000000e+00,  0.00000000e+00],\n",
       "        [ 7.11637055e-02,  6.38018066e-02,  1.91675555e-02,\n",
       "          2.97169940e-02,  4.56348390e-02,  1.52055636e-02,\n",
       "         -2.61546550e-02,  2.49881973e-01, -9.63001866e-01,\n",
       "         -1.41079986e-01,  2.43800739e-01, -9.57841754e-01,\n",
       "          3.70787645e-02,  5.70687612e-02, -8.63350000e-02,\n",
       "          2.51650000e-01,  2.21316736e+00,  9.31295850e-01,\n",
       "          3.43465002e+00,  4.52755000e+01,  4.43202000e+01,\n",
       "          4.82111800e+02,  1.14996923e-02,  5.97107821e-03,\n",
       "          1.01755362e-02,  1.42274000e-01, -9.03500000e-03,\n",
       "          8.05920000e-02,  1.11760000e-01,  1.00800000e-02,\n",
       "          3.31600000e-02,  6.62000000e-03,  0.00000000e+00,\n",
       "          0.00000000e+00,  1.45100000e-02,  2.39500000e-02,\n",
       "          2.16240000e-01,  1.54290000e+00,  5.56000000e-03,\n",
       "          3.34550000e-01,  3.24800000e-02,  9.90700000e-02,\n",
       "          9.63800000e-02,  1.17100000e-02,  1.94280000e-01,\n",
       "          6.60000000e-02,  0.00000000e+00,  0.00000000e+00,\n",
       "          7.18000000e-01,  0.00000000e+00,  0.00000000e+00,\n",
       "          0.00000000e+00,  0.00000000e+00,  0.00000000e+00,\n",
       "          1.00000000e+00,  0.00000000e+00,  9.00000000e-03,\n",
       "          0.00000000e+00,  0.00000000e+00,  0.00000000e+00,\n",
       "          0.00000000e+00,  0.00000000e+00,  1.97000000e-01,\n",
       "          2.63363442e-01,  5.03010298e-02,  7.79834239e-02,\n",
       "          2.49875089e-02,  0.00000000e+00,  0.00000000e+00,\n",
       "          3.78729442e-02,  5.32136965e-02,  6.92290575e-02,\n",
       "          1.85683036e-01,  2.48251163e-02,  1.86362007e-01,\n",
       "          6.89815164e-02,  1.10782829e-01,  1.12380139e-01,\n",
       "          3.62984283e-02,  4.41633424e-01,  2.48282098e-01,\n",
       "          0.00000000e+00,  0.00000000e+00,  4.49973333e-01,\n",
       "          0.00000000e+00,  0.00000000e+00,  0.00000000e+00,\n",
       "          0.00000000e+00,  0.00000000e+00,  0.00000000e+00,\n",
       "          0.00000000e+00,  9.44404574e-02,  0.00000000e+00,\n",
       "          0.00000000e+00,  0.00000000e+00,  0.00000000e+00,\n",
       "          0.00000000e+00,  3.97732322e-01],\n",
       "        [ 1.98778409e-02,  3.74942737e-02,  7.52559780e-03,\n",
       "          1.40267078e-02,  1.75012465e-02,  3.76117168e-03,\n",
       "         -7.21998440e-02,  1.98145889e-01, -9.76559171e-01,\n",
       "         -1.14150475e-01,  2.38198281e-01, -9.64216819e-01,\n",
       "          1.33941769e-02,  2.69949786e-02, -9.56550000e-02,\n",
       "          2.21127000e-01,  1.36240126e+00,  7.37825210e-01,\n",
       "          1.23506501e+00,  5.26841000e+01,  4.70914000e+01,\n",
       "          4.78697900e+02,  6.72833642e-03,  7.05992748e-03,\n",
       "          1.58200551e-02,  1.74933000e-01, -4.13200000e-03,\n",
       "          1.15816000e-01,  1.17000000e-03,  0.00000000e+00,\n",
       "          3.79200000e-02,  8.81000000e-03,  0.00000000e+00,\n",
       "          0.00000000e+00,  3.61000000e-03,  2.75200000e-02,\n",
       "          2.38100000e-01,  1.50354000e+00,  2.66200000e-02,\n",
       "          4.37060000e-01,  2.05900000e-02,  2.05040000e-01,\n",
       "          3.80400000e-02,  1.27640000e-01,  0.00000000e+00,\n",
       "          0.00000000e+00,  0.00000000e+00,  0.00000000e+00,\n",
       "          9.65000000e-01,  0.00000000e+00,  0.00000000e+00,\n",
       "          0.00000000e+00,  0.00000000e+00,  0.00000000e+00,\n",
       "          1.00000000e+00,  0.00000000e+00,  1.00000000e-02,\n",
       "          0.00000000e+00,  0.00000000e+00,  0.00000000e+00,\n",
       "          0.00000000e+00,  0.00000000e+00,  0.00000000e+00,\n",
       "          5.96079693e-03,  0.00000000e+00,  6.90077793e-02,\n",
       "          3.04381980e-02,  0.00000000e+00,  0.00000000e+00,\n",
       "          1.19359918e-02,  6.24023205e-02,  6.42774455e-02,\n",
       "          1.87600289e-01,  5.40830436e-02,  1.23612121e-01,\n",
       "          4.70292664e-02,  1.06203571e-01,  7.96966649e-02,\n",
       "          1.18100933e-01,  0.00000000e+00,  0.00000000e+00,\n",
       "          0.00000000e+00,  0.00000000e+00,  1.83779759e-01,\n",
       "          0.00000000e+00,  0.00000000e+00,  0.00000000e+00,\n",
       "          0.00000000e+00,  0.00000000e+00,  0.00000000e+00,\n",
       "          0.00000000e+00,  9.94987437e-02,  0.00000000e+00,\n",
       "          0.00000000e+00,  0.00000000e+00,  0.00000000e+00,\n",
       "          0.00000000e+00,  0.00000000e+00],\n",
       "        [ 3.66097841e-02,  5.97084689e-02,  1.50375870e-02,\n",
       "          4.05055952e-02,  3.12041011e-02,  1.43990850e-02,\n",
       "         -3.87268740e-02,  2.47790263e-01, -9.65385260e-01,\n",
       "         -1.24985083e-01,  2.46613477e-01, -9.59551357e-01,\n",
       "          2.94908521e-02,  4.65155181e-02, -8.48710000e-02,\n",
       "          2.51476000e-01,  1.25636562e+00,  7.31992561e-01,\n",
       "          2.02312481e+00,  4.79612000e+01,  4.82883000e+01,\n",
       "          4.78355100e+02,  4.26140071e-03,  3.18819322e-03,\n",
       "          3.73841878e-03,  1.82092000e-01,  1.16320000e-02,\n",
       "          1.18965000e-01,  6.98600000e-02,  2.04600000e-02,\n",
       "          1.53340000e-01,  8.05900000e-02,  0.00000000e+00,\n",
       "          0.00000000e+00,  4.35900000e-02,  7.96600000e-02,\n",
       "          1.97560000e-01,  1.63567000e+00,  2.16200000e-02,\n",
       "          5.82970000e-01,  7.20000000e-02,  1.09430000e-01,\n",
       "          1.54300000e-02,  1.11330000e-01,  1.35260000e-01,\n",
       "          0.00000000e+00,  0.00000000e+00,  0.00000000e+00,\n",
       "          9.50000000e-01,  0.00000000e+00,  0.00000000e+00,\n",
       "          0.00000000e+00,  0.00000000e+00,  0.00000000e+00,\n",
       "          1.00000000e+00,  0.00000000e+00,  3.10000000e-02,\n",
       "          0.00000000e+00,  0.00000000e+00,  0.00000000e+00,\n",
       "          0.00000000e+00,  0.00000000e+00,  1.29000000e-01,\n",
       "          1.92094197e-01,  6.39420707e-02,  1.42332162e-01,\n",
       "          1.56907463e-01,  0.00000000e+00,  0.00000000e+00,\n",
       "          6.09574598e-02,  9.33460465e-02,  6.73056194e-02,\n",
       "          1.45951879e-01,  3.84886425e-02,  1.34674716e-01,\n",
       "          8.78088834e-02,  8.26642311e-02,  4.05143814e-02,\n",
       "          1.06845361e-01,  4.00664364e-01,  0.00000000e+00,\n",
       "          0.00000000e+00,  0.00000000e+00,  2.17944947e-01,\n",
       "          0.00000000e+00,  0.00000000e+00,  0.00000000e+00,\n",
       "          0.00000000e+00,  0.00000000e+00,  0.00000000e+00,\n",
       "          0.00000000e+00,  1.73317627e-01,  0.00000000e+00,\n",
       "          0.00000000e+00,  0.00000000e+00,  0.00000000e+00,\n",
       "          0.00000000e+00,  3.35199940e-01],\n",
       "        [ 2.48025638e-02,  2.92031243e-02,  7.99040413e-03,\n",
       "          3.64879908e-02,  1.50604188e-02,  9.37193131e-03,\n",
       "         -1.57023154e-01,  1.89608375e-01, -9.68431996e-01,\n",
       "         -2.01490832e-01,  2.26518280e-01, -9.52073993e-01,\n",
       "          2.98965108e-02,  2.27145830e-02, -1.84621000e-01,\n",
       "          2.13439000e-01,  1.74256987e+00,  3.38099852e-01,\n",
       "          2.35690354e+00,  4.63555000e+01,  4.79293000e+01,\n",
       "          4.76233700e+02,  4.09934519e-03,  1.74794050e-03,\n",
       "          6.65286675e-03,  1.70537000e-01,  1.39480000e-02,\n",
       "          1.13442000e-01,  4.20400000e-02,  0.00000000e+00,\n",
       "          1.44520000e-01,  3.82320000e-01,  0.00000000e+00,\n",
       "          0.00000000e+00,  6.20000000e-03,  3.01100000e-02,\n",
       "          1.99290000e-01,  1.42990000e+00,  1.03510000e-01,\n",
       "          5.93290000e-01,  3.97900000e-02,  1.60820000e-01,\n",
       "          1.22300000e-02,  1.93460000e-01,  0.00000000e+00,\n",
       "          0.00000000e+00,  0.00000000e+00,  0.00000000e+00,\n",
       "          1.00000000e+00,  0.00000000e+00,  0.00000000e+00,\n",
       "          0.00000000e+00,  0.00000000e+00,  0.00000000e+00,\n",
       "          1.00000000e+00,  0.00000000e+00,  5.20000000e-02,\n",
       "          0.00000000e+00,  0.00000000e+00,  0.00000000e+00,\n",
       "          0.00000000e+00,  0.00000000e+00,  0.00000000e+00,\n",
       "          8.66189263e-02,  0.00000000e+00,  9.04564514e-02,\n",
       "          1.80126671e-01,  0.00000000e+00,  0.00000000e+00,\n",
       "          1.65154473e-02,  5.06249731e-02,  7.63203505e-02,\n",
       "          1.51795883e-01,  1.11726362e-01,  1.67656422e-01,\n",
       "          8.30810201e-02,  1.24612710e-01,  4.93551122e-02,\n",
       "          1.59561362e-01,  0.00000000e+00,  0.00000000e+00,\n",
       "          0.00000000e+00,  0.00000000e+00,  0.00000000e+00,\n",
       "          0.00000000e+00,  0.00000000e+00,  0.00000000e+00,\n",
       "          0.00000000e+00,  0.00000000e+00,  0.00000000e+00,\n",
       "          0.00000000e+00,  2.22027025e-01,  0.00000000e+00,\n",
       "          0.00000000e+00,  0.00000000e+00,  0.00000000e+00,\n",
       "          0.00000000e+00,  0.00000000e+00]]),\n",
       " 'Barely-engaged')"
      ]
     },
     "execution_count": 161,
     "metadata": {},
     "output_type": "execute_result"
    }
   ],
   "source": [
    "data[0]"
   ]
  },
  {
   "cell_type": "code",
   "execution_count": 162,
   "id": "8b6e8d18",
   "metadata": {},
   "outputs": [],
   "source": [
    "for idx, d in enumerate(data):\n",
    "    data[idx] = ('chunks/' + path_to_mp4(d[0]).split('/')[-1], d[1], d[2])"
   ]
  },
  {
   "cell_type": "code",
   "execution_count": 163,
   "id": "a12b303d",
   "metadata": {},
   "outputs": [],
   "source": [
    "np.save(f'../data/Xy_engage_{feature_type}_10.npy', np.array(data, dtype='object'))"
   ]
  },
  {
   "cell_type": "code",
   "execution_count": 165,
   "id": "dbd8e9b4",
   "metadata": {},
   "outputs": [
    {
     "data": {
      "text/plain": [
       "(10, 98)"
      ]
     },
     "execution_count": 165,
     "metadata": {},
     "output_type": "execute_result"
    }
   ],
   "source": []
  },
  {
   "cell_type": "code",
   "execution_count": 110,
   "id": "5898cb31",
   "metadata": {},
   "outputs": [],
   "source": [
    "df = pd.read_csv('../data/open_face_results/2012sonubhardwaj@gmail.com-randomkwkczvv409-0-video_0.csv')"
   ]
  },
  {
   "cell_type": "code",
   "execution_count": 119,
   "id": "cfc99e7f",
   "metadata": {},
   "outputs": [
    {
     "data": {
      "text/plain": [
       "{0: 'frame',\n",
       " 1: 'face_id',\n",
       " 2: 'timestamp',\n",
       " 3: 'confidence',\n",
       " 4: 'success',\n",
       " 5: 'gaze_0_x',\n",
       " 6: 'gaze_0_y',\n",
       " 7: 'gaze_0_z',\n",
       " 8: 'gaze_1_x',\n",
       " 9: 'gaze_1_y',\n",
       " 10: 'gaze_1_z',\n",
       " 11: 'gaze_angle_x',\n",
       " 12: 'gaze_angle_y',\n",
       " 13: 'eye_lmk_x_0',\n",
       " 14: 'eye_lmk_x_1',\n",
       " 15: 'eye_lmk_x_2',\n",
       " 16: 'eye_lmk_x_3',\n",
       " 17: 'eye_lmk_x_4',\n",
       " 18: 'eye_lmk_x_5',\n",
       " 19: 'eye_lmk_x_6',\n",
       " 20: 'eye_lmk_x_7',\n",
       " 21: 'eye_lmk_x_8',\n",
       " 22: 'eye_lmk_x_9',\n",
       " 23: 'eye_lmk_x_10',\n",
       " 24: 'eye_lmk_x_11',\n",
       " 25: 'eye_lmk_x_12',\n",
       " 26: 'eye_lmk_x_13',\n",
       " 27: 'eye_lmk_x_14',\n",
       " 28: 'eye_lmk_x_15',\n",
       " 29: 'eye_lmk_x_16',\n",
       " 30: 'eye_lmk_x_17',\n",
       " 31: 'eye_lmk_x_18',\n",
       " 32: 'eye_lmk_x_19',\n",
       " 33: 'eye_lmk_x_20',\n",
       " 34: 'eye_lmk_x_21',\n",
       " 35: 'eye_lmk_x_22',\n",
       " 36: 'eye_lmk_x_23',\n",
       " 37: 'eye_lmk_x_24',\n",
       " 38: 'eye_lmk_x_25',\n",
       " 39: 'eye_lmk_x_26',\n",
       " 40: 'eye_lmk_x_27',\n",
       " 41: 'eye_lmk_x_28',\n",
       " 42: 'eye_lmk_x_29',\n",
       " 43: 'eye_lmk_x_30',\n",
       " 44: 'eye_lmk_x_31',\n",
       " 45: 'eye_lmk_x_32',\n",
       " 46: 'eye_lmk_x_33',\n",
       " 47: 'eye_lmk_x_34',\n",
       " 48: 'eye_lmk_x_35',\n",
       " 49: 'eye_lmk_x_36',\n",
       " 50: 'eye_lmk_x_37',\n",
       " 51: 'eye_lmk_x_38',\n",
       " 52: 'eye_lmk_x_39',\n",
       " 53: 'eye_lmk_x_40',\n",
       " 54: 'eye_lmk_x_41',\n",
       " 55: 'eye_lmk_x_42',\n",
       " 56: 'eye_lmk_x_43',\n",
       " 57: 'eye_lmk_x_44',\n",
       " 58: 'eye_lmk_x_45',\n",
       " 59: 'eye_lmk_x_46',\n",
       " 60: 'eye_lmk_x_47',\n",
       " 61: 'eye_lmk_x_48',\n",
       " 62: 'eye_lmk_x_49',\n",
       " 63: 'eye_lmk_x_50',\n",
       " 64: 'eye_lmk_x_51',\n",
       " 65: 'eye_lmk_x_52',\n",
       " 66: 'eye_lmk_x_53',\n",
       " 67: 'eye_lmk_x_54',\n",
       " 68: 'eye_lmk_x_55',\n",
       " 69: 'eye_lmk_y_0',\n",
       " 70: 'eye_lmk_y_1',\n",
       " 71: 'eye_lmk_y_2',\n",
       " 72: 'eye_lmk_y_3',\n",
       " 73: 'eye_lmk_y_4',\n",
       " 74: 'eye_lmk_y_5',\n",
       " 75: 'eye_lmk_y_6',\n",
       " 76: 'eye_lmk_y_7',\n",
       " 77: 'eye_lmk_y_8',\n",
       " 78: 'eye_lmk_y_9',\n",
       " 79: 'eye_lmk_y_10',\n",
       " 80: 'eye_lmk_y_11',\n",
       " 81: 'eye_lmk_y_12',\n",
       " 82: 'eye_lmk_y_13',\n",
       " 83: 'eye_lmk_y_14',\n",
       " 84: 'eye_lmk_y_15',\n",
       " 85: 'eye_lmk_y_16',\n",
       " 86: 'eye_lmk_y_17',\n",
       " 87: 'eye_lmk_y_18',\n",
       " 88: 'eye_lmk_y_19',\n",
       " 89: 'eye_lmk_y_20',\n",
       " 90: 'eye_lmk_y_21',\n",
       " 91: 'eye_lmk_y_22',\n",
       " 92: 'eye_lmk_y_23',\n",
       " 93: 'eye_lmk_y_24',\n",
       " 94: 'eye_lmk_y_25',\n",
       " 95: 'eye_lmk_y_26',\n",
       " 96: 'eye_lmk_y_27',\n",
       " 97: 'eye_lmk_y_28',\n",
       " 98: 'eye_lmk_y_29',\n",
       " 99: 'eye_lmk_y_30',\n",
       " 100: 'eye_lmk_y_31',\n",
       " 101: 'eye_lmk_y_32',\n",
       " 102: 'eye_lmk_y_33',\n",
       " 103: 'eye_lmk_y_34',\n",
       " 104: 'eye_lmk_y_35',\n",
       " 105: 'eye_lmk_y_36',\n",
       " 106: 'eye_lmk_y_37',\n",
       " 107: 'eye_lmk_y_38',\n",
       " 108: 'eye_lmk_y_39',\n",
       " 109: 'eye_lmk_y_40',\n",
       " 110: 'eye_lmk_y_41',\n",
       " 111: 'eye_lmk_y_42',\n",
       " 112: 'eye_lmk_y_43',\n",
       " 113: 'eye_lmk_y_44',\n",
       " 114: 'eye_lmk_y_45',\n",
       " 115: 'eye_lmk_y_46',\n",
       " 116: 'eye_lmk_y_47',\n",
       " 117: 'eye_lmk_y_48',\n",
       " 118: 'eye_lmk_y_49',\n",
       " 119: 'eye_lmk_y_50',\n",
       " 120: 'eye_lmk_y_51',\n",
       " 121: 'eye_lmk_y_52',\n",
       " 122: 'eye_lmk_y_53',\n",
       " 123: 'eye_lmk_y_54',\n",
       " 124: 'eye_lmk_y_55',\n",
       " 125: 'eye_lmk_X_0',\n",
       " 126: 'eye_lmk_X_1',\n",
       " 127: 'eye_lmk_X_2',\n",
       " 128: 'eye_lmk_X_3',\n",
       " 129: 'eye_lmk_X_4',\n",
       " 130: 'eye_lmk_X_5',\n",
       " 131: 'eye_lmk_X_6',\n",
       " 132: 'eye_lmk_X_7',\n",
       " 133: 'eye_lmk_X_8',\n",
       " 134: 'eye_lmk_X_9',\n",
       " 135: 'eye_lmk_X_10',\n",
       " 136: 'eye_lmk_X_11',\n",
       " 137: 'eye_lmk_X_12',\n",
       " 138: 'eye_lmk_X_13',\n",
       " 139: 'eye_lmk_X_14',\n",
       " 140: 'eye_lmk_X_15',\n",
       " 141: 'eye_lmk_X_16',\n",
       " 142: 'eye_lmk_X_17',\n",
       " 143: 'eye_lmk_X_18',\n",
       " 144: 'eye_lmk_X_19',\n",
       " 145: 'eye_lmk_X_20',\n",
       " 146: 'eye_lmk_X_21',\n",
       " 147: 'eye_lmk_X_22',\n",
       " 148: 'eye_lmk_X_23',\n",
       " 149: 'eye_lmk_X_24',\n",
       " 150: 'eye_lmk_X_25',\n",
       " 151: 'eye_lmk_X_26',\n",
       " 152: 'eye_lmk_X_27',\n",
       " 153: 'eye_lmk_X_28',\n",
       " 154: 'eye_lmk_X_29',\n",
       " 155: 'eye_lmk_X_30',\n",
       " 156: 'eye_lmk_X_31',\n",
       " 157: 'eye_lmk_X_32',\n",
       " 158: 'eye_lmk_X_33',\n",
       " 159: 'eye_lmk_X_34',\n",
       " 160: 'eye_lmk_X_35',\n",
       " 161: 'eye_lmk_X_36',\n",
       " 162: 'eye_lmk_X_37',\n",
       " 163: 'eye_lmk_X_38',\n",
       " 164: 'eye_lmk_X_39',\n",
       " 165: 'eye_lmk_X_40',\n",
       " 166: 'eye_lmk_X_41',\n",
       " 167: 'eye_lmk_X_42',\n",
       " 168: 'eye_lmk_X_43',\n",
       " 169: 'eye_lmk_X_44',\n",
       " 170: 'eye_lmk_X_45',\n",
       " 171: 'eye_lmk_X_46',\n",
       " 172: 'eye_lmk_X_47',\n",
       " 173: 'eye_lmk_X_48',\n",
       " 174: 'eye_lmk_X_49',\n",
       " 175: 'eye_lmk_X_50',\n",
       " 176: 'eye_lmk_X_51',\n",
       " 177: 'eye_lmk_X_52',\n",
       " 178: 'eye_lmk_X_53',\n",
       " 179: 'eye_lmk_X_54',\n",
       " 180: 'eye_lmk_X_55',\n",
       " 181: 'eye_lmk_Y_0',\n",
       " 182: 'eye_lmk_Y_1',\n",
       " 183: 'eye_lmk_Y_2',\n",
       " 184: 'eye_lmk_Y_3',\n",
       " 185: 'eye_lmk_Y_4',\n",
       " 186: 'eye_lmk_Y_5',\n",
       " 187: 'eye_lmk_Y_6',\n",
       " 188: 'eye_lmk_Y_7',\n",
       " 189: 'eye_lmk_Y_8',\n",
       " 190: 'eye_lmk_Y_9',\n",
       " 191: 'eye_lmk_Y_10',\n",
       " 192: 'eye_lmk_Y_11',\n",
       " 193: 'eye_lmk_Y_12',\n",
       " 194: 'eye_lmk_Y_13',\n",
       " 195: 'eye_lmk_Y_14',\n",
       " 196: 'eye_lmk_Y_15',\n",
       " 197: 'eye_lmk_Y_16',\n",
       " 198: 'eye_lmk_Y_17',\n",
       " 199: 'eye_lmk_Y_18',\n",
       " 200: 'eye_lmk_Y_19',\n",
       " 201: 'eye_lmk_Y_20',\n",
       " 202: 'eye_lmk_Y_21',\n",
       " 203: 'eye_lmk_Y_22',\n",
       " 204: 'eye_lmk_Y_23',\n",
       " 205: 'eye_lmk_Y_24',\n",
       " 206: 'eye_lmk_Y_25',\n",
       " 207: 'eye_lmk_Y_26',\n",
       " 208: 'eye_lmk_Y_27',\n",
       " 209: 'eye_lmk_Y_28',\n",
       " 210: 'eye_lmk_Y_29',\n",
       " 211: 'eye_lmk_Y_30',\n",
       " 212: 'eye_lmk_Y_31',\n",
       " 213: 'eye_lmk_Y_32',\n",
       " 214: 'eye_lmk_Y_33',\n",
       " 215: 'eye_lmk_Y_34',\n",
       " 216: 'eye_lmk_Y_35',\n",
       " 217: 'eye_lmk_Y_36',\n",
       " 218: 'eye_lmk_Y_37',\n",
       " 219: 'eye_lmk_Y_38',\n",
       " 220: 'eye_lmk_Y_39',\n",
       " 221: 'eye_lmk_Y_40',\n",
       " 222: 'eye_lmk_Y_41',\n",
       " 223: 'eye_lmk_Y_42',\n",
       " 224: 'eye_lmk_Y_43',\n",
       " 225: 'eye_lmk_Y_44',\n",
       " 226: 'eye_lmk_Y_45',\n",
       " 227: 'eye_lmk_Y_46',\n",
       " 228: 'eye_lmk_Y_47',\n",
       " 229: 'eye_lmk_Y_48',\n",
       " 230: 'eye_lmk_Y_49',\n",
       " 231: 'eye_lmk_Y_50',\n",
       " 232: 'eye_lmk_Y_51',\n",
       " 233: 'eye_lmk_Y_52',\n",
       " 234: 'eye_lmk_Y_53',\n",
       " 235: 'eye_lmk_Y_54',\n",
       " 236: 'eye_lmk_Y_55',\n",
       " 237: 'eye_lmk_Z_0',\n",
       " 238: 'eye_lmk_Z_1',\n",
       " 239: 'eye_lmk_Z_2',\n",
       " 240: 'eye_lmk_Z_3',\n",
       " 241: 'eye_lmk_Z_4',\n",
       " 242: 'eye_lmk_Z_5',\n",
       " 243: 'eye_lmk_Z_6',\n",
       " 244: 'eye_lmk_Z_7',\n",
       " 245: 'eye_lmk_Z_8',\n",
       " 246: 'eye_lmk_Z_9',\n",
       " 247: 'eye_lmk_Z_10',\n",
       " 248: 'eye_lmk_Z_11',\n",
       " 249: 'eye_lmk_Z_12',\n",
       " 250: 'eye_lmk_Z_13',\n",
       " 251: 'eye_lmk_Z_14',\n",
       " 252: 'eye_lmk_Z_15',\n",
       " 253: 'eye_lmk_Z_16',\n",
       " 254: 'eye_lmk_Z_17',\n",
       " 255: 'eye_lmk_Z_18',\n",
       " 256: 'eye_lmk_Z_19',\n",
       " 257: 'eye_lmk_Z_20',\n",
       " 258: 'eye_lmk_Z_21',\n",
       " 259: 'eye_lmk_Z_22',\n",
       " 260: 'eye_lmk_Z_23',\n",
       " 261: 'eye_lmk_Z_24',\n",
       " 262: 'eye_lmk_Z_25',\n",
       " 263: 'eye_lmk_Z_26',\n",
       " 264: 'eye_lmk_Z_27',\n",
       " 265: 'eye_lmk_Z_28',\n",
       " 266: 'eye_lmk_Z_29',\n",
       " 267: 'eye_lmk_Z_30',\n",
       " 268: 'eye_lmk_Z_31',\n",
       " 269: 'eye_lmk_Z_32',\n",
       " 270: 'eye_lmk_Z_33',\n",
       " 271: 'eye_lmk_Z_34',\n",
       " 272: 'eye_lmk_Z_35',\n",
       " 273: 'eye_lmk_Z_36',\n",
       " 274: 'eye_lmk_Z_37',\n",
       " 275: 'eye_lmk_Z_38',\n",
       " 276: 'eye_lmk_Z_39',\n",
       " 277: 'eye_lmk_Z_40',\n",
       " 278: 'eye_lmk_Z_41',\n",
       " 279: 'eye_lmk_Z_42',\n",
       " 280: 'eye_lmk_Z_43',\n",
       " 281: 'eye_lmk_Z_44',\n",
       " 282: 'eye_lmk_Z_45',\n",
       " 283: 'eye_lmk_Z_46',\n",
       " 284: 'eye_lmk_Z_47',\n",
       " 285: 'eye_lmk_Z_48',\n",
       " 286: 'eye_lmk_Z_49',\n",
       " 287: 'eye_lmk_Z_50',\n",
       " 288: 'eye_lmk_Z_51',\n",
       " 289: 'eye_lmk_Z_52',\n",
       " 290: 'eye_lmk_Z_53',\n",
       " 291: 'eye_lmk_Z_54',\n",
       " 292: 'eye_lmk_Z_55',\n",
       " 293: 'pose_Tx',\n",
       " 294: 'pose_Ty',\n",
       " 295: 'pose_Tz',\n",
       " 296: 'pose_Rx',\n",
       " 297: 'pose_Ry',\n",
       " 298: 'pose_Rz',\n",
       " 299: 'x_0',\n",
       " 300: 'x_1',\n",
       " 301: 'x_2',\n",
       " 302: 'x_3',\n",
       " 303: 'x_4',\n",
       " 304: 'x_5',\n",
       " 305: 'x_6',\n",
       " 306: 'x_7',\n",
       " 307: 'x_8',\n",
       " 308: 'x_9',\n",
       " 309: 'x_10',\n",
       " 310: 'x_11',\n",
       " 311: 'x_12',\n",
       " 312: 'x_13',\n",
       " 313: 'x_14',\n",
       " 314: 'x_15',\n",
       " 315: 'x_16',\n",
       " 316: 'x_17',\n",
       " 317: 'x_18',\n",
       " 318: 'x_19',\n",
       " 319: 'x_20',\n",
       " 320: 'x_21',\n",
       " 321: 'x_22',\n",
       " 322: 'x_23',\n",
       " 323: 'x_24',\n",
       " 324: 'x_25',\n",
       " 325: 'x_26',\n",
       " 326: 'x_27',\n",
       " 327: 'x_28',\n",
       " 328: 'x_29',\n",
       " 329: 'x_30',\n",
       " 330: 'x_31',\n",
       " 331: 'x_32',\n",
       " 332: 'x_33',\n",
       " 333: 'x_34',\n",
       " 334: 'x_35',\n",
       " 335: 'x_36',\n",
       " 336: 'x_37',\n",
       " 337: 'x_38',\n",
       " 338: 'x_39',\n",
       " 339: 'x_40',\n",
       " 340: 'x_41',\n",
       " 341: 'x_42',\n",
       " 342: 'x_43',\n",
       " 343: 'x_44',\n",
       " 344: 'x_45',\n",
       " 345: 'x_46',\n",
       " 346: 'x_47',\n",
       " 347: 'x_48',\n",
       " 348: 'x_49',\n",
       " 349: 'x_50',\n",
       " 350: 'x_51',\n",
       " 351: 'x_52',\n",
       " 352: 'x_53',\n",
       " 353: 'x_54',\n",
       " 354: 'x_55',\n",
       " 355: 'x_56',\n",
       " 356: 'x_57',\n",
       " 357: 'x_58',\n",
       " 358: 'x_59',\n",
       " 359: 'x_60',\n",
       " 360: 'x_61',\n",
       " 361: 'x_62',\n",
       " 362: 'x_63',\n",
       " 363: 'x_64',\n",
       " 364: 'x_65',\n",
       " 365: 'x_66',\n",
       " 366: 'x_67',\n",
       " 367: 'y_0',\n",
       " 368: 'y_1',\n",
       " 369: 'y_2',\n",
       " 370: 'y_3',\n",
       " 371: 'y_4',\n",
       " 372: 'y_5',\n",
       " 373: 'y_6',\n",
       " 374: 'y_7',\n",
       " 375: 'y_8',\n",
       " 376: 'y_9',\n",
       " 377: 'y_10',\n",
       " 378: 'y_11',\n",
       " 379: 'y_12',\n",
       " 380: 'y_13',\n",
       " 381: 'y_14',\n",
       " 382: 'y_15',\n",
       " 383: 'y_16',\n",
       " 384: 'y_17',\n",
       " 385: 'y_18',\n",
       " 386: 'y_19',\n",
       " 387: 'y_20',\n",
       " 388: 'y_21',\n",
       " 389: 'y_22',\n",
       " 390: 'y_23',\n",
       " 391: 'y_24',\n",
       " 392: 'y_25',\n",
       " 393: 'y_26',\n",
       " 394: 'y_27',\n",
       " 395: 'y_28',\n",
       " 396: 'y_29',\n",
       " 397: 'y_30',\n",
       " 398: 'y_31',\n",
       " 399: 'y_32',\n",
       " 400: 'y_33',\n",
       " 401: 'y_34',\n",
       " 402: 'y_35',\n",
       " 403: 'y_36',\n",
       " 404: 'y_37',\n",
       " 405: 'y_38',\n",
       " 406: 'y_39',\n",
       " 407: 'y_40',\n",
       " 408: 'y_41',\n",
       " 409: 'y_42',\n",
       " 410: 'y_43',\n",
       " 411: 'y_44',\n",
       " 412: 'y_45',\n",
       " 413: 'y_46',\n",
       " 414: 'y_47',\n",
       " 415: 'y_48',\n",
       " 416: 'y_49',\n",
       " 417: 'y_50',\n",
       " 418: 'y_51',\n",
       " 419: 'y_52',\n",
       " 420: 'y_53',\n",
       " 421: 'y_54',\n",
       " 422: 'y_55',\n",
       " 423: 'y_56',\n",
       " 424: 'y_57',\n",
       " 425: 'y_58',\n",
       " 426: 'y_59',\n",
       " 427: 'y_60',\n",
       " 428: 'y_61',\n",
       " 429: 'y_62',\n",
       " 430: 'y_63',\n",
       " 431: 'y_64',\n",
       " 432: 'y_65',\n",
       " 433: 'y_66',\n",
       " 434: 'y_67',\n",
       " 435: 'X_0',\n",
       " 436: 'X_1',\n",
       " 437: 'X_2',\n",
       " 438: 'X_3',\n",
       " 439: 'X_4',\n",
       " 440: 'X_5',\n",
       " 441: 'X_6',\n",
       " 442: 'X_7',\n",
       " 443: 'X_8',\n",
       " 444: 'X_9',\n",
       " 445: 'X_10',\n",
       " 446: 'X_11',\n",
       " 447: 'X_12',\n",
       " 448: 'X_13',\n",
       " 449: 'X_14',\n",
       " 450: 'X_15',\n",
       " 451: 'X_16',\n",
       " 452: 'X_17',\n",
       " 453: 'X_18',\n",
       " 454: 'X_19',\n",
       " 455: 'X_20',\n",
       " 456: 'X_21',\n",
       " 457: 'X_22',\n",
       " 458: 'X_23',\n",
       " 459: 'X_24',\n",
       " 460: 'X_25',\n",
       " 461: 'X_26',\n",
       " 462: 'X_27',\n",
       " 463: 'X_28',\n",
       " 464: 'X_29',\n",
       " 465: 'X_30',\n",
       " 466: 'X_31',\n",
       " 467: 'X_32',\n",
       " 468: 'X_33',\n",
       " 469: 'X_34',\n",
       " 470: 'X_35',\n",
       " 471: 'X_36',\n",
       " 472: 'X_37',\n",
       " 473: 'X_38',\n",
       " 474: 'X_39',\n",
       " 475: 'X_40',\n",
       " 476: 'X_41',\n",
       " 477: 'X_42',\n",
       " 478: 'X_43',\n",
       " 479: 'X_44',\n",
       " 480: 'X_45',\n",
       " 481: 'X_46',\n",
       " 482: 'X_47',\n",
       " 483: 'X_48',\n",
       " 484: 'X_49',\n",
       " 485: 'X_50',\n",
       " 486: 'X_51',\n",
       " 487: 'X_52',\n",
       " 488: 'X_53',\n",
       " 489: 'X_54',\n",
       " 490: 'X_55',\n",
       " 491: 'X_56',\n",
       " 492: 'X_57',\n",
       " 493: 'X_58',\n",
       " 494: 'X_59',\n",
       " 495: 'X_60',\n",
       " 496: 'X_61',\n",
       " 497: 'X_62',\n",
       " 498: 'X_63',\n",
       " 499: 'X_64',\n",
       " 500: 'X_65',\n",
       " 501: 'X_66',\n",
       " 502: 'X_67',\n",
       " 503: 'Y_0',\n",
       " 504: 'Y_1',\n",
       " 505: 'Y_2',\n",
       " 506: 'Y_3',\n",
       " 507: 'Y_4',\n",
       " 508: 'Y_5',\n",
       " 509: 'Y_6',\n",
       " 510: 'Y_7',\n",
       " 511: 'Y_8',\n",
       " 512: 'Y_9',\n",
       " 513: 'Y_10',\n",
       " 514: 'Y_11',\n",
       " 515: 'Y_12',\n",
       " 516: 'Y_13',\n",
       " 517: 'Y_14',\n",
       " 518: 'Y_15',\n",
       " 519: 'Y_16',\n",
       " 520: 'Y_17',\n",
       " 521: 'Y_18',\n",
       " 522: 'Y_19',\n",
       " 523: 'Y_20',\n",
       " 524: 'Y_21',\n",
       " 525: 'Y_22',\n",
       " 526: 'Y_23',\n",
       " 527: 'Y_24',\n",
       " 528: 'Y_25',\n",
       " 529: 'Y_26',\n",
       " 530: 'Y_27',\n",
       " 531: 'Y_28',\n",
       " 532: 'Y_29',\n",
       " 533: 'Y_30',\n",
       " 534: 'Y_31',\n",
       " 535: 'Y_32',\n",
       " 536: 'Y_33',\n",
       " 537: 'Y_34',\n",
       " 538: 'Y_35',\n",
       " 539: 'Y_36',\n",
       " 540: 'Y_37',\n",
       " 541: 'Y_38',\n",
       " 542: 'Y_39',\n",
       " 543: 'Y_40',\n",
       " 544: 'Y_41',\n",
       " 545: 'Y_42',\n",
       " 546: 'Y_43',\n",
       " 547: 'Y_44',\n",
       " 548: 'Y_45',\n",
       " 549: 'Y_46',\n",
       " 550: 'Y_47',\n",
       " 551: 'Y_48',\n",
       " 552: 'Y_49',\n",
       " 553: 'Y_50',\n",
       " 554: 'Y_51',\n",
       " 555: 'Y_52',\n",
       " 556: 'Y_53',\n",
       " 557: 'Y_54',\n",
       " 558: 'Y_55',\n",
       " 559: 'Y_56',\n",
       " 560: 'Y_57',\n",
       " 561: 'Y_58',\n",
       " 562: 'Y_59',\n",
       " 563: 'Y_60',\n",
       " 564: 'Y_61',\n",
       " 565: 'Y_62',\n",
       " 566: 'Y_63',\n",
       " 567: 'Y_64',\n",
       " 568: 'Y_65',\n",
       " 569: 'Y_66',\n",
       " 570: 'Y_67',\n",
       " 571: 'Z_0',\n",
       " 572: 'Z_1',\n",
       " 573: 'Z_2',\n",
       " 574: 'Z_3',\n",
       " 575: 'Z_4',\n",
       " 576: 'Z_5',\n",
       " 577: 'Z_6',\n",
       " 578: 'Z_7',\n",
       " 579: 'Z_8',\n",
       " 580: 'Z_9',\n",
       " 581: 'Z_10',\n",
       " 582: 'Z_11',\n",
       " 583: 'Z_12',\n",
       " 584: 'Z_13',\n",
       " 585: 'Z_14',\n",
       " 586: 'Z_15',\n",
       " 587: 'Z_16',\n",
       " 588: 'Z_17',\n",
       " 589: 'Z_18',\n",
       " 590: 'Z_19',\n",
       " 591: 'Z_20',\n",
       " 592: 'Z_21',\n",
       " 593: 'Z_22',\n",
       " 594: 'Z_23',\n",
       " 595: 'Z_24',\n",
       " 596: 'Z_25',\n",
       " 597: 'Z_26',\n",
       " 598: 'Z_27',\n",
       " 599: 'Z_28',\n",
       " 600: 'Z_29',\n",
       " 601: 'Z_30',\n",
       " 602: 'Z_31',\n",
       " 603: 'Z_32',\n",
       " 604: 'Z_33',\n",
       " 605: 'Z_34',\n",
       " 606: 'Z_35',\n",
       " 607: 'Z_36',\n",
       " 608: 'Z_37',\n",
       " 609: 'Z_38',\n",
       " 610: 'Z_39',\n",
       " 611: 'Z_40',\n",
       " 612: 'Z_41',\n",
       " 613: 'Z_42',\n",
       " 614: 'Z_43',\n",
       " 615: 'Z_44',\n",
       " 616: 'Z_45',\n",
       " 617: 'Z_46',\n",
       " 618: 'Z_47',\n",
       " 619: 'Z_48',\n",
       " 620: 'Z_49',\n",
       " 621: 'Z_50',\n",
       " 622: 'Z_51',\n",
       " 623: 'Z_52',\n",
       " 624: 'Z_53',\n",
       " 625: 'Z_54',\n",
       " 626: 'Z_55',\n",
       " 627: 'Z_56',\n",
       " 628: 'Z_57',\n",
       " 629: 'Z_58',\n",
       " 630: 'Z_59',\n",
       " 631: 'Z_60',\n",
       " 632: 'Z_61',\n",
       " 633: 'Z_62',\n",
       " 634: 'Z_63',\n",
       " 635: 'Z_64',\n",
       " 636: 'Z_65',\n",
       " 637: 'Z_66',\n",
       " 638: 'Z_67',\n",
       " 639: 'p_scale',\n",
       " 640: 'p_rx',\n",
       " 641: 'p_ry',\n",
       " 642: 'p_rz',\n",
       " 643: 'p_tx',\n",
       " 644: 'p_ty',\n",
       " 645: 'p_0',\n",
       " 646: 'p_1',\n",
       " 647: 'p_2',\n",
       " 648: 'p_3',\n",
       " 649: 'p_4',\n",
       " 650: 'p_5',\n",
       " 651: 'p_6',\n",
       " 652: 'p_7',\n",
       " 653: 'p_8',\n",
       " 654: 'p_9',\n",
       " 655: 'p_10',\n",
       " 656: 'p_11',\n",
       " 657: 'p_12',\n",
       " 658: 'p_13',\n",
       " 659: 'p_14',\n",
       " 660: 'p_15',\n",
       " 661: 'p_16',\n",
       " 662: 'p_17',\n",
       " 663: 'p_18',\n",
       " 664: 'p_19',\n",
       " 665: 'p_20',\n",
       " 666: 'p_21',\n",
       " 667: 'p_22',\n",
       " 668: 'p_23',\n",
       " 669: 'p_24',\n",
       " 670: 'p_25',\n",
       " 671: 'p_26',\n",
       " 672: 'p_27',\n",
       " 673: 'p_28',\n",
       " 674: 'p_29',\n",
       " 675: 'p_30',\n",
       " 676: 'p_31',\n",
       " 677: 'p_32',\n",
       " 678: 'p_33',\n",
       " 679: 'AU01_r',\n",
       " 680: 'AU02_r',\n",
       " 681: 'AU04_r',\n",
       " 682: 'AU05_r',\n",
       " 683: 'AU06_r',\n",
       " 684: 'AU07_r',\n",
       " 685: 'AU09_r',\n",
       " 686: 'AU10_r',\n",
       " 687: 'AU12_r',\n",
       " 688: 'AU14_r',\n",
       " 689: 'AU15_r',\n",
       " 690: 'AU17_r',\n",
       " 691: 'AU20_r',\n",
       " 692: 'AU23_r',\n",
       " 693: 'AU25_r',\n",
       " 694: 'AU26_r',\n",
       " 695: 'AU45_r',\n",
       " 696: 'AU01_c',\n",
       " 697: 'AU02_c',\n",
       " 698: 'AU04_c',\n",
       " 699: 'AU05_c',\n",
       " 700: 'AU06_c',\n",
       " 701: 'AU07_c',\n",
       " 702: 'AU09_c',\n",
       " 703: 'AU10_c',\n",
       " 704: 'AU12_c',\n",
       " 705: 'AU14_c',\n",
       " 706: 'AU15_c',\n",
       " 707: 'AU17_c',\n",
       " 708: 'AU20_c',\n",
       " 709: 'AU23_c',\n",
       " 710: 'AU25_c',\n",
       " 711: 'AU26_c',\n",
       " 712: 'AU28_c',\n",
       " 713: 'AU45_c'}"
      ]
     },
     "execution_count": 119,
     "metadata": {},
     "output_type": "execute_result"
    }
   ],
   "source": [
    "dict(zip(range(len(df.columns)), list(df.columns)))"
   ]
  },
  {
   "cell_type": "code",
   "execution_count": 127,
   "id": "27e3ca40",
   "metadata": {},
   "outputs": [],
   "source": [
    "Xy_1 = np.load('../data/Xy_engage_gaze+hp+au.npy', allow_pickle=True)"
   ]
  },
  {
   "cell_type": "code",
   "execution_count": 128,
   "id": "63838b9d",
   "metadata": {},
   "outputs": [],
   "source": [
    "Xy_2 = np.load('../data/Xy_marlin_features_large.npy', allow_pickle=True)"
   ]
  },
  {
   "cell_type": "code",
   "execution_count": 132,
   "id": "01c172b4",
   "metadata": {},
   "outputs": [
    {
     "data": {
      "text/plain": [
       "11206"
      ]
     },
     "execution_count": 132,
     "metadata": {},
     "output_type": "execute_result"
    }
   ],
   "source": [
    "len(Xy_2)"
   ]
  },
  {
   "cell_type": "code",
   "execution_count": 133,
   "id": "18968caa",
   "metadata": {},
   "outputs": [
    {
     "data": {
      "text/plain": [
       "11528"
      ]
     },
     "execution_count": 133,
     "metadata": {},
     "output_type": "execute_result"
    }
   ],
   "source": [
    "len(Xy_1)"
   ]
  },
  {
   "cell_type": "code",
   "execution_count": 134,
   "id": "b67ad912",
   "metadata": {},
   "outputs": [],
   "source": [
    "x1_fm = {}\n",
    "for xy in Xy_1:\n",
    "    x1_fm[xy[0]] = xy[1]"
   ]
  },
  {
   "cell_type": "code",
   "execution_count": 154,
   "id": "2d326368",
   "metadata": {},
   "outputs": [],
   "source": [
    "data = []\n",
    "for idx, xy in enumerate(Xy_2):\n",
    "    x1 = x1_fm[xy[0]]\n",
    "    if type(x1)!=tuple:\n",
    "        data.append((xy[0], xy[1], x1, xy[2]))"
   ]
  },
  {
   "cell_type": "code",
   "execution_count": 156,
   "id": "6d930751",
   "metadata": {},
   "outputs": [],
   "source": [
    "np.save('../data/Xy_engage_gaze+hp+au_marlin.npy', np.array(data, dtype='object'))\n"
   ]
  },
  {
   "cell_type": "code",
   "execution_count": 148,
   "id": "fd1671a0",
   "metadata": {},
   "outputs": [],
   "source": [
    "data = np.array(data, dtype='object')"
   ]
  },
  {
   "cell_type": "code",
   "execution_count": 155,
   "id": "e342932c",
   "metadata": {},
   "outputs": [
    {
     "data": {
      "text/plain": [
       "10812"
      ]
     },
     "execution_count": 155,
     "metadata": {},
     "output_type": "execute_result"
    }
   ],
   "source": [
    "len(data)"
   ]
  },
  {
   "cell_type": "code",
   "execution_count": 217,
   "id": "1890c79d",
   "metadata": {},
   "outputs": [
    {
     "data": {
      "image/png": "[encoded data removed]",
      "text/plain": [
       "<Figure size 432x288 with 2 Axes>"
      ]
     },
     "metadata": {
      "needs_background": "light"
     },
     "output_type": "display_data"
    }
   ],
   "source": [
    "import matplotlib.pyplot as plt\n",
    "import numpy as np\n",
    "\n",
    "# create sample data\n",
    "x = ['Highly Engaged', 'Engaged', 'Barely Engaged', 'Not Engaged']\n",
    "y1 = [50.53763441, 44.89795918, 34.61538462, 19.04761905]\n",
    "y2 = [54.25531915, 61.2244898, 62.69230769, 115.4761905]\n",
    "\n",
    "# create figure and axis objects\n",
    "fig, ax1 = plt.subplots()\n",
    "\n",
    "# plot data on first axis\n",
    "#ax1.plot(x, y1, 'b-', marker='o')\n",
    "ax1.bar(x, y1, width=0.5, color='#6499c4')\n",
    "\n",
    "ax1.spines['top'].set_visible(False)\n",
    "ax1.set_xlabel('')\n",
    "ax1.set_ylabel('Percentage(%)', color='#6499c4', weight='bold')\n",
    "\n",
    "# create second axis\n",
    "ax2 = ax1.twinx()\n",
    "ax2.plot(x, y2, color='#ea7900', linewidth=2, marker='o', markeredgecolor='w')\n",
    "ax2.set_ylabel('Average Time(s)', color='#ea7900', weight='bold')\n",
    "\n",
    "ax1.yaxis.grid(color='#c9c9c9')\n",
    "ax2.spines['top'].set_visible(False)\n",
    "plt.savefig('filename.png', dpi=300)\n",
    "\n",
    "plt.show()"
   ]
  },
  {
   "cell_type": "code",
   "execution_count": 221,
   "id": "518ee2d9",
   "metadata": {},
   "outputs": [
    {
     "data": {
      "image/png": "[encoded data removed]",
      "text/plain": [
       "<Figure size 432x288 with 1 Axes>"
      ]
     },
     "metadata": {
      "needs_background": "light"
     },
     "output_type": "display_data"
    }
   ],
   "source": [
    "import matplotlib.pyplot as plt\n",
    "import numpy as np\n",
    "\n",
    "# create sample data\n",
    "x = ['Highly Engaged', 'Engaged', 'Barely Engaged', 'Not Engaged']\n",
    "y1 = [50.00, 43.14, 46.43, 32.91]\n",
    "\n",
    "# create figure and axis objects\n",
    "fig, ax1 = plt.subplots()\n",
    "\n",
    "# plot data on first axis\n",
    "#ax1.plot(x, y1, 'b-', marker='o')\n",
    "b = ax1.bar(x, y1, width=0.5, color='#6499c4')\n",
    "ax1.bar_label(b, padding=3)\n",
    "ax1.spines['top'].set_visible(False)\n",
    "ax1.spines['right'].set_visible(False)\n",
    "ax1.set_xlabel('')\n",
    "ax1.set_ylabel('Percentage(%)', color='#6499c4', weight='bold')\n",
    "\n",
    "ax1.yaxis.grid(color='#c9c9c9')\n",
    "\n",
    "plt.savefig('barp.png', dpi=300)\n",
    "\n",
    "plt.show()"
   ]
  },
  {
   "cell_type": "code",
   "execution_count": 220,
   "id": "93c798d6",
   "metadata": {},
   "outputs": [
    {
     "data": {
      "image/png": "[encoded data removed]",
      "text/plain": [
       "<Figure size 432x288 with 1 Axes>"
      ]
     },
     "metadata": {
      "needs_background": "light"
     },
     "output_type": "display_data"
    }
   ],
   "source": [
    "import matplotlib.pyplot as plt\n",
    "import numpy as np\n",
    "\n",
    "# create sample data\n",
    "x = ['Highly Engaged', 'Engaged', 'Barely Engaged', 'Not Engaged']\n",
    "y1 = [5443, 2350, 1378, 2035]\n",
    "\n",
    "# create figure and axis objects\n",
    "fig, ax1 = plt.subplots()\n",
    "\n",
    "# plot data on first axis\n",
    "#ax1.plot(x, y1, 'b-', marker='o')\n",
    "b = ax1.bar(x, y1, width=0.5, color='#6499c4')\n",
    "ax1.bar_label(b, padding=3)\n",
    "ax1.spines['top'].set_visible(False)\n",
    "ax1.spines['right'].set_visible(False)\n",
    "ax1.set_xlabel('')\n",
    "ax1.set_ylabel('Frequency', color='#6499c4', weight='bold')\n",
    "\n",
    "ax1.yaxis.grid(color='#c9c9c9')\n",
    "\n",
    "plt.savefig('barf.png', dpi=300)\n",
    "\n",
    "plt.show()"
   ]
  },
  {
   "cell_type": "code",
   "execution_count": null,
   "id": "3d77687e",
   "metadata": {},
   "outputs": [],
   "source": []
  }
 ],
 "metadata": {
  "kernelspec": {
   "display_name": "Python 3 (ipykernel)",
   "language": "python",
   "name": "python3"
  },
  "language_info": {
   "codemirror_mode": {
    "name": "ipython",
    "version": 3
   },
   "file_extension": ".py",
   "mimetype": "text/x-python",
   "name": "python",
   "nbconvert_exporter": "python",
   "pygments_lexer": "ipython3",
   "version": "3.9.12"
  }
 },
 "nbformat": 4,
 "nbformat_minor": 5
}
