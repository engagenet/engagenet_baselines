{
 "cells": [
  {
   "cell_type": "code",
   "execution_count": 1,
   "id": "0e27e297",
   "metadata": {},
   "outputs": [],
   "source": [
    "import pandas as pd\n",
    "import numpy as np"
   ]
  },
  {
   "cell_type": "code",
   "execution_count": 5,
   "id": "68fbd914",
   "metadata": {},
   "outputs": [],
   "source": [
    "# df = pd.read_csv('landmarks_mediapipe/2012sonubhardwaj@gmail.com-randomkwkczvv409-0-video_0.csv')"
   ]
  },
  {
   "cell_type": "code",
   "execution_count": 21,
   "id": "31b900eb",
   "metadata": {},
   "outputs": [],
   "source": [
    "def filter_bodypose(row):\n",
    "    for i in range(33):\n",
    "        if row[f'visibility{i}'] < 0.9:\n",
    "            row[f'x{i}'] = 0\n",
    "            row[f'y{i}'] = 0\n",
    "            row[f'z{i}'] = 0\n",
    "    return row"
   ]
  },
  {
   "cell_type": "code",
   "execution_count": null,
   "id": "24c5d3fc",
   "metadata": {},
   "outputs": [],
   "source": []
  },
  {
   "cell_type": "code",
   "execution_count": 15,
   "id": "d97b42f5",
   "metadata": {},
   "outputs": [],
   "source": [
    "import glob\n",
    "import numpy as np\n",
    "import pandas as pd\n",
    "import os\n",
    "feature_files = glob.glob(\"landmarks_mediapipe/*.csv\")\n",
    "\n",
    "labels = pd.read_csv('final_labels.csv')"
   ]
  },
  {
   "cell_type": "code",
   "execution_count": 16,
   "id": "18503f48",
   "metadata": {},
   "outputs": [],
   "source": [
    "from tqdm import tqdm"
   ]
  },
  {
   "cell_type": "code",
   "execution_count": 51,
   "id": "fc8d98bb",
   "metadata": {},
   "outputs": [],
   "source": [
    "n_segments = 20\n",
    "def get_features(input_segment):\n",
    "    if len(input_segment) == 0:\n",
    "        return []\n",
    "    return input_segment.var()\n",
    "        "
   ]
  },
  {
   "cell_type": "code",
   "execution_count": 69,
   "id": "2f86de5f",
   "metadata": {},
   "outputs": [],
   "source": [
    "drop_cols = ['frame'] + [f'visibility{i}' for i in range(33)]\n",
    "n_segments = 20\n",
    "def parse_features(file_path):\n",
    "    \n",
    "    df = pd.read_csv(file_path)\n",
    "    df = df.apply(filter_bodypose, axis=1)\n",
    "\n",
    "    df.drop(drop_cols, axis=1, inplace=True)\n",
    "\n",
    "    window_size = int(df.shape[0]/n_segments)\n",
    "    \n",
    "    if window_size < 1:\n",
    "        return []\n",
    "    instance_features = []\n",
    "    start_index = 0\n",
    "    for i in range(n_segments):\n",
    "        if i == n_segments - 1:\n",
    "            end_index = df.shape[0]\n",
    "        else:\n",
    "            end_index = start_index + window_size\n",
    "        \n",
    "        # update here for our dataset\n",
    "#         print (start_index, end_index)\n",
    "        index_features = get_features(df.iloc[start_index:end_index, :])\n",
    "        if len(index_features):\n",
    "            instance_features.append(index_features)\n",
    "        start_index = start_index + window_size\n",
    "    \n",
    "    \n",
    "    instance_features = np.vstack(instance_features)\n",
    "    assert instance_features.shape[0] == 20, \"shape issue\"\n",
    "\n",
    "    return instance_features\n",
    "\n",
    "\n",
    "_errors_ = []\n",
    "def extract_bodypose_features():\n",
    "    data = []\n",
    "    for f in tqdm(labels.to_dict(orient='records')):\n",
    "        try:\n",
    "            file_path = 'landmarks_mediapipe/' + path_to_csv(f['chunk'].split('/')[-1])\n",
    "            feature = parse_features(file_path)\n",
    "            label = f['label']\n",
    "            data.append((f, feature, label))\n",
    "            \n",
    "        except FileNotFoundError:\n",
    "            _errors_.append(file_path)\n",
    "        except Exception as e:\n",
    "            print (\"exception: \", e)\n",
    "            _errors_.append(file_path)\n",
    "            \n",
    "    return np.array(data, dtype='object')\n",
    "\n"
   ]
  },
  {
   "cell_type": "code",
   "execution_count": 70,
   "id": "9acb6c6e",
   "metadata": {},
   "outputs": [
    {
     "name": "stderr",
     "output_type": "stream",
     "text": [
      "  2%|██▍                                                                                                                  | 237/11620 [00:53<40:37,  4.67it/s]"
     ]
    },
    {
     "name": "stdout",
     "output_type": "stream",
     "text": [
      "exception:  No columns to parse from file\n"
     ]
    },
    {
     "name": "stderr",
     "output_type": "stream",
     "text": [
      "  3%|███▋                                                                                                                 | 371/11620 [01:24<37:13,  5.04it/s]"
     ]
    },
    {
     "name": "stdout",
     "output_type": "stream",
     "text": [
      "exception:  No columns to parse from file\n"
     ]
    },
    {
     "name": "stderr",
     "output_type": "stream",
     "text": [
      " 17%|███████████████████▏                                                                                                | 1923/11620 [06:37<40:53,  3.95it/s]"
     ]
    },
    {
     "name": "stdout",
     "output_type": "stream",
     "text": [
      "exception:  No columns to parse from file\n"
     ]
    },
    {
     "name": "stderr",
     "output_type": "stream",
     "text": [
      " 17%|███████████████████▎                                                                                                | 1939/11620 [06:40<35:47,  4.51it/s]"
     ]
    },
    {
     "name": "stdout",
     "output_type": "stream",
     "text": [
      "exception:  No columns to parse from file\n"
     ]
    },
    {
     "name": "stderr",
     "output_type": "stream",
     "text": [
      " 18%|████████████████████▉                                                                                               | 2099/11620 [07:18<39:38,  4.00it/s]"
     ]
    },
    {
     "name": "stdout",
     "output_type": "stream",
     "text": [
      "exception:  No columns to parse from file\n"
     ]
    },
    {
     "name": "stderr",
     "output_type": "stream",
     "text": [
      " 19%|█████████████████████▋                                                                                              | 2174/11620 [07:35<36:14,  4.34it/s]"
     ]
    },
    {
     "name": "stdout",
     "output_type": "stream",
     "text": [
      "exception:  No columns to parse from file\n",
      "exception:  No columns to parse from file\n",
      "exception:  No columns to parse from file\n"
     ]
    },
    {
     "name": "stderr",
     "output_type": "stream",
     "text": [
      " 22%|█████████████████████████▉                                                                                          | 2600/11620 [08:58<09:25, 15.94it/s]"
     ]
    },
    {
     "name": "stdout",
     "output_type": "stream",
     "text": [
      "exception:  No columns to parse from file\n"
     ]
    },
    {
     "name": "stderr",
     "output_type": "stream",
     "text": [
      " 26%|█████████████████████████████▊                                                                                      | 2987/11620 [10:16<17:53,  8.04it/s]"
     ]
    },
    {
     "name": "stdout",
     "output_type": "stream",
     "text": [
      "exception:  No columns to parse from file\n",
      "exception:  No columns to parse from file\n"
     ]
    },
    {
     "name": "stderr",
     "output_type": "stream",
     "text": [
      " 27%|███████████████████████████████▏                                                                                    | 3130/11620 [10:47<26:47,  5.28it/s]"
     ]
    },
    {
     "name": "stdout",
     "output_type": "stream",
     "text": [
      "exception:  No columns to parse from file\n"
     ]
    },
    {
     "name": "stderr",
     "output_type": "stream",
     "text": [
      " 32%|█████████████████████████████████████▌                                                                              | 3768/11620 [12:47<29:08,  4.49it/s]"
     ]
    },
    {
     "name": "stdout",
     "output_type": "stream",
     "text": [
      "exception:  No columns to parse from file\n"
     ]
    },
    {
     "name": "stderr",
     "output_type": "stream",
     "text": [
      " 35%|█████████████████████████████████████████                                                                           | 4111/11620 [14:03<31:01,  4.03it/s]"
     ]
    },
    {
     "name": "stdout",
     "output_type": "stream",
     "text": [
      "exception:  No columns to parse from file\n"
     ]
    },
    {
     "name": "stderr",
     "output_type": "stream",
     "text": [
      " 38%|████████████████████████████████████████████▎                                                                       | 4434/11620 [15:17<22:18,  5.37it/s]"
     ]
    },
    {
     "name": "stdout",
     "output_type": "stream",
     "text": [
      "exception:  No columns to parse from file\n"
     ]
    },
    {
     "name": "stderr",
     "output_type": "stream",
     "text": [
      " 38%|████████████████████████████████████████████▌                                                                       | 4470/11620 [15:25<29:49,  4.00it/s]"
     ]
    },
    {
     "name": "stdout",
     "output_type": "stream",
     "text": [
      "exception:  No columns to parse from file\n",
      "exception:  No columns to parse from file\n",
      "exception:  No columns to parse from file\n",
      "exception:  No columns to parse from file\n"
     ]
    },
    {
     "name": "stderr",
     "output_type": "stream",
     "text": [
      "\r",
      " 39%|████████████████████████████████████████████▋                                                                       | 4476/11620 [15:25<12:11,  9.76it/s]"
     ]
    },
    {
     "name": "stdout",
     "output_type": "stream",
     "text": [
      "exception:  No columns to parse from file\n",
      "exception:  No columns to parse from file\n"
     ]
    },
    {
     "name": "stderr",
     "output_type": "stream",
     "text": [
      " 39%|████████████████████████████████████████████▊                                                                       | 4484/11620 [15:26<16:16,  7.31it/s]"
     ]
    },
    {
     "name": "stdout",
     "output_type": "stream",
     "text": [
      "exception:  No columns to parse from file\n"
     ]
    },
    {
     "name": "stderr",
     "output_type": "stream",
     "text": [
      " 47%|██████████████████████████████████████████████████████▏                                                             | 5432/11620 [18:44<29:04,  3.55it/s]"
     ]
    },
    {
     "name": "stdout",
     "output_type": "stream",
     "text": [
      "exception:  No columns to parse from file\n",
      "exception:  No columns to parse from file\n",
      "exception:  No columns to parse from file\n",
      "exception:  No columns to parse from file\n",
      "exception:  No columns to parse from file\n"
     ]
    },
    {
     "name": "stderr",
     "output_type": "stream",
     "text": [
      "\r",
      " 47%|██████████████████████████████████████████████████████▎                                                             | 5441/11620 [18:44<08:26, 12.19it/s]"
     ]
    },
    {
     "name": "stdout",
     "output_type": "stream",
     "text": [
      "exception:  No columns to parse from file\n",
      "exception:  No columns to parse from file\n",
      "exception:  No columns to parse from file\n",
      "exception:  No columns to parse from file\n",
      "exception:  No columns to parse from file\n"
     ]
    },
    {
     "name": "stderr",
     "output_type": "stream",
     "text": [
      " 47%|██████████████████████████████████████████████████████▌                                                             | 5463/11620 [18:48<21:51,  4.69it/s]"
     ]
    },
    {
     "name": "stdout",
     "output_type": "stream",
     "text": [
      "exception:  No columns to parse from file\n"
     ]
    },
    {
     "name": "stderr",
     "output_type": "stream",
     "text": [
      " 47%|██████████████████████████████████████████████████████▋                                                             | 5473/11620 [18:50<23:16,  4.40it/s]"
     ]
    },
    {
     "name": "stdout",
     "output_type": "stream",
     "text": [
      "exception:  No columns to parse from file\n",
      "exception:  No columns to parse from file\n"
     ]
    },
    {
     "name": "stderr",
     "output_type": "stream",
     "text": [
      " 47%|██████████████████████████████████████████████████████▉                                                             | 5502/11620 [18:56<24:48,  4.11it/s]"
     ]
    },
    {
     "name": "stdout",
     "output_type": "stream",
     "text": [
      "exception:  No columns to parse from file\n"
     ]
    },
    {
     "name": "stderr",
     "output_type": "stream",
     "text": [
      " 47%|██████████████████████████████████████████████████████▉                                                             | 5508/11620 [18:57<16:40,  6.11it/s]"
     ]
    },
    {
     "name": "stdout",
     "output_type": "stream",
     "text": [
      "exception:  No columns to parse from file\n"
     ]
    },
    {
     "name": "stderr",
     "output_type": "stream",
     "text": [
      " 47%|███████████████████████████████████████████████████████                                                             | 5515/11620 [18:59<24:28,  4.16it/s]"
     ]
    },
    {
     "name": "stdout",
     "output_type": "stream",
     "text": [
      "exception:  No columns to parse from file\n"
     ]
    },
    {
     "name": "stderr",
     "output_type": "stream",
     "text": [
      " 56%|████████████████████████████████████████████████████████████████▌                                                   | 6472/11620 [22:28<05:09, 16.62it/s]"
     ]
    },
    {
     "name": "stdout",
     "output_type": "stream",
     "text": [
      "exception:  No columns to parse from file\n",
      "exception:  No columns to parse from file\n"
     ]
    },
    {
     "name": "stderr",
     "output_type": "stream",
     "text": [
      " 56%|████████████████████████████████████████████████████████████████▋                                                   | 6481/11620 [22:29<04:53, 17.50it/s]"
     ]
    },
    {
     "name": "stdout",
     "output_type": "stream",
     "text": [
      "exception:  No columns to parse from file\n"
     ]
    },
    {
     "name": "stderr",
     "output_type": "stream",
     "text": [
      " 57%|██████████████████████████████████████████████████████████████████▏                                                 | 6633/11620 [23:01<06:44, 12.33it/s]"
     ]
    },
    {
     "name": "stdout",
     "output_type": "stream",
     "text": [
      "exception:  No columns to parse from file\n",
      "exception:  No columns to parse from file\n",
      "exception:  No columns to parse from file\n"
     ]
    },
    {
     "name": "stderr",
     "output_type": "stream",
     "text": [
      " 63%|████████████████████████████████████████████████████████████████████████▋                                           | 7276/11620 [25:19<14:55,  4.85it/s]"
     ]
    },
    {
     "name": "stdout",
     "output_type": "stream",
     "text": [
      "exception:  No columns to parse from file\n"
     ]
    },
    {
     "name": "stderr",
     "output_type": "stream",
     "text": [
      " 64%|██████████████████████████████████████████████████████████████████████████                                          | 7416/11620 [25:48<17:42,  3.96it/s]"
     ]
    },
    {
     "name": "stdout",
     "output_type": "stream",
     "text": [
      "exception:  No columns to parse from file\n"
     ]
    },
    {
     "name": "stderr",
     "output_type": "stream",
     "text": [
      " 68%|███████████████████████████████████████████████████████████████████████████████▏                                    | 7932/11620 [27:38<17:02,  3.61it/s]"
     ]
    },
    {
     "name": "stdout",
     "output_type": "stream",
     "text": [
      "exception:  No columns to parse from file\n"
     ]
    },
    {
     "name": "stderr",
     "output_type": "stream",
     "text": [
      "\r",
      " 68%|███████████████████████████████████████████████████████████████████████████████▏                                    | 7935/11620 [27:38<10:37,  5.78it/s]"
     ]
    },
    {
     "name": "stdout",
     "output_type": "stream",
     "text": [
      "exception:  No columns to parse from file\n",
      "exception:  No columns to parse from file\n",
      "exception:  No columns to parse from file\n"
     ]
    },
    {
     "name": "stderr",
     "output_type": "stream",
     "text": [
      "\r",
      " 68%|███████████████████████████████████████████████████████████████████████████████▎                                    | 7939/11620 [27:38<07:16,  8.44it/s]"
     ]
    },
    {
     "name": "stdout",
     "output_type": "stream",
     "text": [
      "exception:  No columns to parse from file\n"
     ]
    },
    {
     "name": "stderr",
     "output_type": "stream",
     "text": [
      " 68%|███████████████████████████████████████████████████████████████████████████████▍                                    | 7956/11620 [27:42<13:14,  4.61it/s]"
     ]
    },
    {
     "name": "stdout",
     "output_type": "stream",
     "text": [
      "exception:  No columns to parse from file\n"
     ]
    },
    {
     "name": "stderr",
     "output_type": "stream",
     "text": [
      " 68%|███████████████████████████████████████████████████████████████████████████████▍                                    | 7959/11620 [27:43<12:36,  4.84it/s]"
     ]
    },
    {
     "name": "stdout",
     "output_type": "stream",
     "text": [
      "exception:  No columns to parse from file\n",
      "exception:  No columns to parse from file\n"
     ]
    },
    {
     "name": "stderr",
     "output_type": "stream",
     "text": [
      " 69%|███████████████████████████████████████████████████████████████████████████████▌                                    | 7965/11620 [27:44<10:51,  5.61it/s]"
     ]
    },
    {
     "name": "stdout",
     "output_type": "stream",
     "text": [
      "exception:  No columns to parse from file\n",
      "exception:  No columns to parse from file\n"
     ]
    },
    {
     "name": "stderr",
     "output_type": "stream",
     "text": [
      "\r",
      " 69%|███████████████████████████████████████████████████████████████████████████████▌                                    | 7969/11620 [27:44<07:26,  8.17it/s]"
     ]
    },
    {
     "name": "stdout",
     "output_type": "stream",
     "text": [
      "exception:  No columns to parse from file\n",
      "exception:  No columns to parse from file\n"
     ]
    },
    {
     "name": "stderr",
     "output_type": "stream",
     "text": [
      " 69%|███████████████████████████████████████████████████████████████████████████████▌                                    | 7975/11620 [27:45<08:22,  7.26it/s]"
     ]
    },
    {
     "name": "stdout",
     "output_type": "stream",
     "text": [
      "exception:  No columns to parse from file\n"
     ]
    },
    {
     "name": "stderr",
     "output_type": "stream",
     "text": [
      " 69%|███████████████████████████████████████████████████████████████████████████████▋                                    | 7979/11620 [27:46<11:25,  5.31it/s]"
     ]
    },
    {
     "name": "stdout",
     "output_type": "stream",
     "text": [
      "exception:  No columns to parse from file\n",
      "exception:  No columns to parse from file\n"
     ]
    },
    {
     "name": "stderr",
     "output_type": "stream",
     "text": [
      " 69%|███████████████████████████████████████████████████████████████████████████████▋                                    | 7985/11620 [27:47<12:33,  4.82it/s]"
     ]
    },
    {
     "name": "stdout",
     "output_type": "stream",
     "text": [
      "exception:  No columns to parse from file\n",
      "exception:  No columns to parse from file\n",
      "exception:  No columns to parse from file\n"
     ]
    },
    {
     "name": "stderr",
     "output_type": "stream",
     "text": [
      " 69%|███████████████████████████████████████████████████████████████████████████████▊                                    | 7991/11620 [27:47<08:21,  7.24it/s]"
     ]
    },
    {
     "name": "stdout",
     "output_type": "stream",
     "text": [
      "exception:  No columns to parse from file\n"
     ]
    },
    {
     "name": "stderr",
     "output_type": "stream",
     "text": [
      " 69%|███████████████████████████████████████████████████████████████████████████████▊                                    | 7994/11620 [27:48<09:22,  6.45it/s]"
     ]
    },
    {
     "name": "stdout",
     "output_type": "stream",
     "text": [
      "exception:  No columns to parse from file\n",
      "exception:  No columns to parse from file\n",
      "exception:  No columns to parse from file\n",
      "exception:  No columns to parse from file\n",
      "exception:  No columns to parse from file\n",
      "exception:  No columns to parse from file\n",
      "exception:  No columns to parse from file\n"
     ]
    },
    {
     "name": "stderr",
     "output_type": "stream",
     "text": [
      "\r",
      " 69%|███████████████████████████████████████████████████████████████████████████████▉                                    | 8003/11620 [27:48<04:05, 14.71it/s]"
     ]
    },
    {
     "name": "stdout",
     "output_type": "stream",
     "text": [
      "exception:  No columns to parse from file\n",
      "exception:  No columns to parse from file\n",
      "exception:  No columns to parse from file\n",
      "exception:  No columns to parse from file\n",
      "exception:  No columns to parse from file\n",
      "exception:  No columns to parse from file\n",
      "exception:  No columns to parse from file\n",
      "exception:  No columns to parse from file\n",
      "exception:  No columns to parse from file\n"
     ]
    },
    {
     "name": "stderr",
     "output_type": "stream",
     "text": [
      "\r",
      " 69%|████████████████████████████████████████████████████████████████████████████████                                    | 8014/11620 [27:48<02:41, 22.31it/s]"
     ]
    },
    {
     "name": "stdout",
     "output_type": "stream",
     "text": [
      "exception:  No columns to parse from file\n",
      "exception:  No columns to parse from file\n",
      "exception:  No columns to parse from file\n",
      "exception:  No columns to parse from file\n",
      "exception:  No columns to parse from file\n",
      "exception:  No columns to parse from file\n",
      "exception:  No columns to parse from file\n",
      "exception:  No columns to parse from file\n",
      "exception:  No columns to parse from file\n",
      "exception:  No columns to parse from file\n",
      "exception:  No columns to parse from file\n",
      "exception:  No columns to parse from file\n",
      "exception:  No columns to parse from file\n",
      "exception:  No columns to parse from file\n",
      "exception:  No columns to parse from file\n",
      "exception:  No columns to parse from file\n",
      "exception:  No columns to parse from file\n",
      "exception:  No columns to parse from file\n",
      "exception:  No columns to parse from file\n",
      "exception:  No columns to parse from file\n",
      "exception:  No columns to parse from file\n",
      "exception:  No columns to parse from file\n",
      "exception:  No columns to parse from file\n",
      "exception:  No columns to parse from file\n",
      "exception:  No columns to parse from file\n",
      "exception:  No columns to parse from file\n",
      "exception:  No columns to parse from file\n",
      "exception:  No columns to parse from file\n",
      "exception:  No columns to parse from file\n",
      "exception:  No columns to parse from file\n",
      "exception:  No columns to parse from file\n",
      "exception:  No columns to parse from file\n",
      "exception:  No columns to parse from file\n",
      "exception:  No columns to parse from file\n",
      "exception:  No columns to parse from file\n",
      "exception:  No columns to parse from file\n",
      "exception:  No columns to parse from file\n",
      "exception:  No columns to parse from file\n",
      "exception:  No columns to parse from file\n",
      "exception:  No columns to parse from file\n",
      "exception:  No columns to parse from file\n",
      "exception:  No columns to parse from file\n"
     ]
    },
    {
     "name": "stderr",
     "output_type": "stream",
     "text": [
      " 71%|██████████████████████████████████████████████████████████████████████████████████▊                                 | 8298/11620 [28:35<01:56, 28.41it/s]"
     ]
    },
    {
     "name": "stdout",
     "output_type": "stream",
     "text": [
      "exception:  No columns to parse from file\n",
      "exception:  No columns to parse from file\n",
      "exception:  No columns to parse from file\n",
      "exception:  No columns to parse from file\n",
      "exception:  No columns to parse from file\n",
      "exception:  No columns to parse from file\n"
     ]
    },
    {
     "name": "stderr",
     "output_type": "stream",
     "text": [
      " 72%|███████████████████████████████████████████████████████████████████████████████████▏                                | 8329/11620 [28:37<03:24, 16.09it/s]"
     ]
    },
    {
     "name": "stdout",
     "output_type": "stream",
     "text": [
      "exception:  No columns to parse from file\n",
      "exception:  No columns to parse from file\n"
     ]
    },
    {
     "name": "stderr",
     "output_type": "stream",
     "text": [
      " 72%|███████████████████████████████████████████████████████████████████████████████████▏                                | 8335/11620 [28:37<03:44, 14.61it/s]"
     ]
    },
    {
     "name": "stdout",
     "output_type": "stream",
     "text": [
      "exception:  No columns to parse from file\n",
      "exception:  No columns to parse from file\n",
      "exception:  No columns to parse from file\n"
     ]
    },
    {
     "name": "stderr",
     "output_type": "stream",
     "text": [
      " 72%|███████████████████████████████████████████████████████████████████████████████████▎                                | 8340/11620 [28:38<03:25, 15.99it/s]"
     ]
    },
    {
     "name": "stdout",
     "output_type": "stream",
     "text": [
      "exception:  No columns to parse from file\n",
      "exception:  No columns to parse from file\n",
      "exception:  No columns to parse from file\n"
     ]
    },
    {
     "name": "stderr",
     "output_type": "stream",
     "text": [
      " 72%|███████████████████████████████████████████████████████████████████████████████████▎                                | 8347/11620 [28:38<04:12, 12.94it/s]"
     ]
    },
    {
     "name": "stdout",
     "output_type": "stream",
     "text": [
      "exception:  No columns to parse from file\n"
     ]
    },
    {
     "name": "stderr",
     "output_type": "stream",
     "text": [
      " 72%|███████████████████████████████████████████████████████████████████████████████████▍                                | 8364/11620 [28:40<04:57, 10.93it/s]"
     ]
    },
    {
     "name": "stdout",
     "output_type": "stream",
     "text": [
      "exception:  No columns to parse from file\n",
      "exception:  No columns to parse from file\n",
      "exception:  No columns to parse from file\n",
      "exception:  No columns to parse from file\n",
      "exception:  No columns to parse from file\n",
      "exception:  No columns to parse from file\n",
      "exception:  No columns to parse from file\n",
      "exception:  No columns to parse from file\n",
      "exception:  No columns to parse from file\n",
      "exception:  No columns to parse from file\n",
      "exception:  No columns to parse from file\n",
      "exception:  No columns to parse from file\n",
      "exception:  No columns to parse from file\n",
      "exception:  No columns to parse from file\n",
      "exception:  No columns to parse from file\n",
      "exception:  No columns to parse from file\n",
      "exception:  No columns to parse from file\n",
      "exception:  No columns to parse from file\n",
      "exception:  No columns to parse from file\n"
     ]
    },
    {
     "name": "stderr",
     "output_type": "stream",
     "text": [
      "\r",
      " 72%|███████████████████████████████████████████████████████████████████████████████████▋                                | 8385/11620 [28:40<01:14, 43.59it/s]"
     ]
    },
    {
     "name": "stdout",
     "output_type": "stream",
     "text": [
      "exception:  No columns to parse from file\n",
      "exception:  No columns to parse from file\n"
     ]
    },
    {
     "name": "stderr",
     "output_type": "stream",
     "text": [
      "\r",
      " 72%|███████████████████████████████████████████████████████████████████████████████████▊                                | 8391/11620 [28:40<01:23, 38.69it/s]"
     ]
    },
    {
     "name": "stdout",
     "output_type": "stream",
     "text": [
      "exception:  No columns to parse from file\n",
      "exception:  No columns to parse from file\n",
      "exception:  No columns to parse from file\n",
      "exception:  No columns to parse from file\n",
      "exception:  No columns to parse from file\n"
     ]
    },
    {
     "name": "stderr",
     "output_type": "stream",
     "text": [
      " 74%|█████████████████████████████████████████████████████████████████████████████████████▍                              | 8560/11620 [29:14<12:44,  4.00it/s]"
     ]
    },
    {
     "name": "stdout",
     "output_type": "stream",
     "text": [
      "exception:  No columns to parse from file\n"
     ]
    },
    {
     "name": "stderr",
     "output_type": "stream",
     "text": [
      "\r",
      " 74%|█████████████████████████████████████████████████████████████████████████████████████▍                              | 8562/11620 [29:14<10:17,  4.95it/s]"
     ]
    },
    {
     "name": "stdout",
     "output_type": "stream",
     "text": [
      "exception:  No columns to parse from file\n",
      "exception:  No columns to parse from file\n",
      "exception:  No columns to parse from file\n"
     ]
    },
    {
     "name": "stderr",
     "output_type": "stream",
     "text": [
      "\r",
      " 74%|█████████████████████████████████████████████████████████████████████████████████████▌                              | 8568/11620 [29:15<05:06,  9.95it/s]"
     ]
    },
    {
     "name": "stdout",
     "output_type": "stream",
     "text": [
      "exception:  No columns to parse from file\n",
      "exception:  No columns to parse from file\n",
      "exception:  No columns to parse from file\n"
     ]
    },
    {
     "name": "stderr",
     "output_type": "stream",
     "text": [
      " 74%|█████████████████████████████████████████████████████████████████████████████████████▌                              | 8574/11620 [29:15<04:53, 10.38it/s]"
     ]
    },
    {
     "name": "stdout",
     "output_type": "stream",
     "text": [
      "exception:  No columns to parse from file\n"
     ]
    },
    {
     "name": "stderr",
     "output_type": "stream",
     "text": [
      " 74%|█████████████████████████████████████████████████████████████████████████████████████▌                              | 8577/11620 [29:16<07:51,  6.45it/s]"
     ]
    },
    {
     "name": "stdout",
     "output_type": "stream",
     "text": [
      "exception:  No columns to parse from file\n",
      "exception:  No columns to parse from file\n",
      "exception:  No columns to parse from file\n",
      "exception:  No columns to parse from file\n",
      "exception:  No columns to parse from file\n"
     ]
    },
    {
     "name": "stderr",
     "output_type": "stream",
     "text": [
      " 74%|█████████████████████████████████████████████████████████████████████████████████████▊                              | 8591/11620 [29:18<08:53,  5.67it/s]"
     ]
    },
    {
     "name": "stdout",
     "output_type": "stream",
     "text": [
      "exception:  No columns to parse from file\n"
     ]
    },
    {
     "name": "stderr",
     "output_type": "stream",
     "text": [
      " 74%|█████████████████████████████████████████████████████████████████████████████████████▊                              | 8595/11620 [29:19<10:09,  4.97it/s]"
     ]
    },
    {
     "name": "stdout",
     "output_type": "stream",
     "text": [
      "exception:  No columns to parse from file\n"
     ]
    },
    {
     "name": "stderr",
     "output_type": "stream",
     "text": [
      "\r",
      " 74%|█████████████████████████████████████████████████████████████████████████████████████▊                              | 8597/11620 [29:19<09:01,  5.58it/s]"
     ]
    },
    {
     "name": "stdout",
     "output_type": "stream",
     "text": [
      "exception:  No columns to parse from file\n",
      "exception:  No columns to parse from file\n"
     ]
    },
    {
     "name": "stderr",
     "output_type": "stream",
     "text": [
      " 74%|█████████████████████████████████████████████████████████████████████████████████████▊                              | 8602/11620 [29:19<07:20,  6.84it/s]"
     ]
    },
    {
     "name": "stdout",
     "output_type": "stream",
     "text": [
      "exception:  No columns to parse from file\n"
     ]
    },
    {
     "name": "stderr",
     "output_type": "stream",
     "text": [
      "\r",
      " 74%|█████████████████████████████████████████████████████████████████████████████████████▉                              | 8604/11620 [29:20<07:07,  7.06it/s]"
     ]
    },
    {
     "name": "stdout",
     "output_type": "stream",
     "text": [
      "exception:  No columns to parse from file\n"
     ]
    },
    {
     "name": "stderr",
     "output_type": "stream",
     "text": [
      "\r",
      " 74%|█████████████████████████████████████████████████████████████████████████████████████▉                              | 8606/11620 [29:20<07:06,  7.07it/s]"
     ]
    },
    {
     "name": "stdout",
     "output_type": "stream",
     "text": [
      "exception:  No columns to parse from file\n",
      "exception:  No columns to parse from file\n",
      "exception:  No columns to parse from file\n",
      "exception:  No columns to parse from file\n"
     ]
    },
    {
     "name": "stderr",
     "output_type": "stream",
     "text": [
      " 74%|█████████████████████████████████████████████████████████████████████████████████████▉                              | 8614/11620 [29:21<06:12,  8.07it/s]"
     ]
    },
    {
     "name": "stdout",
     "output_type": "stream",
     "text": [
      "exception:  No columns to parse from file\n",
      "exception:  No columns to parse from file\n"
     ]
    },
    {
     "name": "stderr",
     "output_type": "stream",
     "text": [
      "\r",
      " 74%|██████████████████████████████████████████████████████████████████████████████████████                              | 8617/11620 [29:21<05:39,  8.84it/s]"
     ]
    },
    {
     "name": "stdout",
     "output_type": "stream",
     "text": [
      "exception:  No columns to parse from file\n"
     ]
    },
    {
     "name": "stderr",
     "output_type": "stream",
     "text": [
      " 74%|██████████████████████████████████████████████████████████████████████████████████████                              | 8620/11620 [29:22<07:03,  7.09it/s]"
     ]
    },
    {
     "name": "stdout",
     "output_type": "stream",
     "text": [
      "exception:  No columns to parse from file\n",
      "exception:  No columns to parse from file\n",
      "exception:  No columns to parse from file\n"
     ]
    },
    {
     "name": "stderr",
     "output_type": "stream",
     "text": [
      " 74%|██████████████████████████████████████████████████████████████████████████████████████                              | 8627/11620 [29:22<05:16,  9.45it/s]"
     ]
    },
    {
     "name": "stdout",
     "output_type": "stream",
     "text": [
      "exception:  No columns to parse from file\n",
      "exception:  No columns to parse from file\n",
      "exception:  No columns to parse from file\n",
      "exception:  No columns to parse from file\n"
     ]
    },
    {
     "name": "stderr",
     "output_type": "stream",
     "text": [
      "\r",
      " 74%|██████████████████████████████████████████████████████████████████████████████████████▏                             | 8632/11620 [29:22<04:07, 12.08it/s]"
     ]
    },
    {
     "name": "stdout",
     "output_type": "stream",
     "text": [
      "exception:  No columns to parse from file\n"
     ]
    },
    {
     "name": "stderr",
     "output_type": "stream",
     "text": [
      " 74%|██████████████████████████████████████████████████████████████████████████████████████▏                             | 8639/11620 [29:24<07:32,  6.58it/s]"
     ]
    },
    {
     "name": "stdout",
     "output_type": "stream",
     "text": [
      "exception:  No columns to parse from file\n",
      "exception:  No columns to parse from file\n"
     ]
    },
    {
     "name": "stderr",
     "output_type": "stream",
     "text": [
      " 74%|██████████████████████████████████████████████████████████████████████████████████████▎                             | 8643/11620 [29:24<07:25,  6.68it/s]"
     ]
    },
    {
     "name": "stdout",
     "output_type": "stream",
     "text": [
      "exception:  No columns to parse from file\n",
      "exception:  No columns to parse from file\n",
      "exception:  No columns to parse from file\n",
      "exception:  No columns to parse from file\n",
      "exception:  No columns to parse from file\n",
      "exception:  No columns to parse from file\n"
     ]
    },
    {
     "name": "stderr",
     "output_type": "stream",
     "text": [
      "\r",
      " 74%|██████████████████████████████████████████████████████████████████████████████████████▎                             | 8651/11620 [29:24<03:42, 13.37it/s]"
     ]
    },
    {
     "name": "stdout",
     "output_type": "stream",
     "text": [
      "exception:  No columns to parse from file\n"
     ]
    },
    {
     "name": "stderr",
     "output_type": "stream",
     "text": [
      " 74%|██████████████████████████████████████████████████████████████████████████████████████▍                             | 8655/11620 [29:25<04:48, 10.26it/s]"
     ]
    },
    {
     "name": "stdout",
     "output_type": "stream",
     "text": [
      "exception:  No columns to parse from file\n",
      "exception:  No columns to parse from file\n"
     ]
    },
    {
     "name": "stderr",
     "output_type": "stream",
     "text": [
      "\r",
      " 75%|██████████████████████████████████████████████████████████████████████████████████████▍                             | 8657/11620 [29:25<05:13,  9.44it/s]"
     ]
    },
    {
     "name": "stdout",
     "output_type": "stream",
     "text": [
      "exception:  No columns to parse from file\n",
      "exception:  No columns to parse from file\n"
     ]
    },
    {
     "name": "stderr",
     "output_type": "stream",
     "text": [
      "\r",
      " 75%|██████████████████████████████████████████████████████████████████████████████████████▍                             | 8661/11620 [29:25<04:30, 10.95it/s]"
     ]
    },
    {
     "name": "stdout",
     "output_type": "stream",
     "text": [
      "exception:  No columns to parse from file\n",
      "exception:  No columns to parse from file\n",
      "exception:  No columns to parse from file\n"
     ]
    },
    {
     "name": "stderr",
     "output_type": "stream",
     "text": [
      "\r",
      " 75%|██████████████████████████████████████████████████████████████████████████████████████▌                             | 8665/11620 [29:26<04:07, 11.96it/s]"
     ]
    },
    {
     "name": "stdout",
     "output_type": "stream",
     "text": [
      "exception:  No columns to parse from file\n"
     ]
    },
    {
     "name": "stderr",
     "output_type": "stream",
     "text": [
      "\r",
      " 75%|██████████████████████████████████████████████████████████████████████████████████████▌                             | 8667/11620 [29:26<04:49, 10.19it/s]"
     ]
    },
    {
     "name": "stdout",
     "output_type": "stream",
     "text": [
      "exception:  No columns to parse from file\n",
      "exception:  No columns to parse from file\n"
     ]
    },
    {
     "name": "stderr",
     "output_type": "stream",
     "text": [
      "\r",
      " 75%|██████████████████████████████████████████████████████████████████████████████████████▌                             | 8672/11620 [29:26<04:08, 11.88it/s]"
     ]
    },
    {
     "name": "stdout",
     "output_type": "stream",
     "text": [
      "exception:  No columns to parse from file\n",
      "exception:  No columns to parse from file\n"
     ]
    },
    {
     "name": "stderr",
     "output_type": "stream",
     "text": [
      " 75%|██████████████████████████████████████████████████████████████████████████████████████▋                             | 8683/11620 [29:28<08:17,  5.90it/s]"
     ]
    },
    {
     "name": "stdout",
     "output_type": "stream",
     "text": [
      "exception:  No columns to parse from file\n",
      "exception:  No columns to parse from file\n",
      "exception:  No columns to parse from file\n",
      "exception:  No columns to parse from file\n"
     ]
    },
    {
     "name": "stderr",
     "output_type": "stream",
     "text": [
      " 79%|███████████████████████████████████████████████████████████████████████████████████████████▊                        | 9192/11620 [31:16<02:54, 13.93it/s]"
     ]
    },
    {
     "name": "stdout",
     "output_type": "stream",
     "text": [
      "exception:  No columns to parse from file\n"
     ]
    },
    {
     "name": "stderr",
     "output_type": "stream",
     "text": [
      " 80%|█████████████████████████████████████████████████████████████████████████████████████████████▏                      | 9332/11620 [31:47<09:28,  4.02it/s]"
     ]
    },
    {
     "name": "stdout",
     "output_type": "stream",
     "text": [
      "exception:  No columns to parse from file\n"
     ]
    },
    {
     "name": "stderr",
     "output_type": "stream",
     "text": [
      " 82%|██████████████████████████████████████████████████████████████████████████████████████████████▋                     | 9483/11620 [32:22<07:04,  5.03it/s]"
     ]
    },
    {
     "name": "stdout",
     "output_type": "stream",
     "text": [
      "exception:  No columns to parse from file\n",
      "exception:  No columns to parse from file\n"
     ]
    },
    {
     "name": "stderr",
     "output_type": "stream",
     "text": [
      " 82%|██████████████████████████████████████████████████████████████████████████████████████████████▋                     | 9491/11620 [32:23<08:05,  4.38it/s]"
     ]
    },
    {
     "name": "stdout",
     "output_type": "stream",
     "text": [
      "exception:  No columns to parse from file\n"
     ]
    },
    {
     "name": "stderr",
     "output_type": "stream",
     "text": [
      " 82%|██████████████████████████████████████████████████████████████████████████████████████████████▊                     | 9497/11620 [32:24<07:28,  4.73it/s]"
     ]
    },
    {
     "name": "stdout",
     "output_type": "stream",
     "text": [
      "exception:  No columns to parse from file\n"
     ]
    },
    {
     "name": "stderr",
     "output_type": "stream",
     "text": [
      "\r",
      " 82%|██████████████████████████████████████████████████████████████████████████████████████████████▊                     | 9499/11620 [32:25<06:09,  5.75it/s]"
     ]
    },
    {
     "name": "stdout",
     "output_type": "stream",
     "text": [
      "exception:  No columns to parse from file\n"
     ]
    },
    {
     "name": "stderr",
     "output_type": "stream",
     "text": [
      " 82%|██████████████████████████████████████████████████████████████████████████████████████████████▉                     | 9504/11620 [32:25<04:42,  7.49it/s]"
     ]
    },
    {
     "name": "stdout",
     "output_type": "stream",
     "text": [
      "exception:  No columns to parse from file\n",
      "exception:  No columns to parse from file\n"
     ]
    },
    {
     "name": "stderr",
     "output_type": "stream",
     "text": [
      "\r",
      " 82%|██████████████████████████████████████████████████████████████████████████████████████████████▉                     | 9507/11620 [32:25<03:54,  9.03it/s]"
     ]
    },
    {
     "name": "stdout",
     "output_type": "stream",
     "text": [
      "exception:  No columns to parse from file\n",
      "exception:  No columns to parse from file\n"
     ]
    },
    {
     "name": "stderr",
     "output_type": "stream",
     "text": [
      " 82%|██████████████████████████████████████████████████████████████████████████████████████████████▉                     | 9511/11620 [32:26<04:22,  8.03it/s]"
     ]
    },
    {
     "name": "stdout",
     "output_type": "stream",
     "text": [
      "exception:  No columns to parse from file\n",
      "exception:  No columns to parse from file\n",
      "exception:  No columns to parse from file\n",
      "exception:  No columns to parse from file\n",
      "exception:  No columns to parse from file\n"
     ]
    },
    {
     "name": "stderr",
     "output_type": "stream",
     "text": [
      " 82%|███████████████████████████████████████████████████████████████████████████████████████████████                     | 9523/11620 [32:27<04:25,  7.90it/s]"
     ]
    },
    {
     "name": "stdout",
     "output_type": "stream",
     "text": [
      "exception:  No columns to parse from file\n",
      "exception:  No columns to parse from file\n",
      "exception:  No columns to parse from file\n",
      "exception:  No columns to parse from file\n"
     ]
    },
    {
     "name": "stderr",
     "output_type": "stream",
     "text": [
      "\r",
      " 82%|███████████████████████████████████████████████████████████████████████████████████████████████▏                    | 9530/11620 [32:27<02:46, 12.55it/s]"
     ]
    },
    {
     "name": "stdout",
     "output_type": "stream",
     "text": [
      "exception:  No columns to parse from file\n"
     ]
    },
    {
     "name": "stderr",
     "output_type": "stream",
     "text": [
      " 86%|███████████████████████████████████████████████████████████████████████████████████████████████████▍                | 9956/11620 [34:07<05:31,  5.02it/s]"
     ]
    },
    {
     "name": "stdout",
     "output_type": "stream",
     "text": [
      "exception:  No columns to parse from file\n"
     ]
    },
    {
     "name": "stderr",
     "output_type": "stream",
     "text": [
      " 90%|███████████████████████████████████████████████████████████████████████████████████████████████████████▋           | 10474/11620 [36:06<03:47,  5.03it/s]"
     ]
    },
    {
     "name": "stdout",
     "output_type": "stream",
     "text": [
      "exception:  No columns to parse from file\n"
     ]
    },
    {
     "name": "stderr",
     "output_type": "stream",
     "text": [
      " 90%|████████████████████████████████████████████████████████████████████████████████████████████████████████           | 10511/11620 [36:14<04:38,  3.98it/s]"
     ]
    },
    {
     "name": "stdout",
     "output_type": "stream",
     "text": [
      "exception:  No columns to parse from file\n"
     ]
    },
    {
     "name": "stderr",
     "output_type": "stream",
     "text": [
      " 90%|████████████████████████████████████████████████████████████████████████████████████████████████████████           | 10516/11620 [36:15<03:17,  5.58it/s]"
     ]
    },
    {
     "name": "stdout",
     "output_type": "stream",
     "text": [
      "exception:  No columns to parse from file\n"
     ]
    },
    {
     "name": "stderr",
     "output_type": "stream",
     "text": [
      " 96%|██████████████████████████████████████████████████████████████████████████████████████████████████████████████     | 11121/11620 [38:43<02:01,  4.12it/s]"
     ]
    },
    {
     "name": "stdout",
     "output_type": "stream",
     "text": [
      "exception:  No columns to parse from file\n"
     ]
    },
    {
     "name": "stderr",
     "output_type": "stream",
     "text": [
      " 99%|█████████████████████████████████████████████████████████████████████████████████████████████████████████████████▎ | 11446/11620 [39:56<00:07, 23.43it/s]"
     ]
    },
    {
     "name": "stdout",
     "output_type": "stream",
     "text": [
      "exception:  No columns to parse from file\n",
      "exception:  No columns to parse from file\n",
      "exception:  No columns to parse from file\n",
      "exception:  No columns to parse from file\n",
      "exception:  No columns to parse from file\n",
      "exception:  No columns to parse from file\n",
      "exception:  No columns to parse from file\n",
      "exception:  No columns to parse from file\n",
      "exception:  No columns to parse from file\n",
      "exception:  No columns to parse from file\n",
      "exception:  No columns to parse from file\n",
      "exception:  No columns to parse from file\n",
      "exception:  No columns to parse from file\n",
      "exception:  No columns to parse from file\n",
      "exception:  No columns to parse from file\n",
      "exception:  No columns to parse from file\n"
     ]
    },
    {
     "name": "stderr",
     "output_type": "stream",
     "text": [
      "\r",
      " 99%|█████████████████████████████████████████████████████████████████████████████████████████████████████████████████▎ | 11453/11620 [39:57<00:05, 30.49it/s]"
     ]
    },
    {
     "name": "stdout",
     "output_type": "stream",
     "text": [
      "exception:  No columns to parse from file\n"
     ]
    },
    {
     "name": "stderr",
     "output_type": "stream",
     "text": [
      " 99%|█████████████████████████████████████████████████████████████████████████████████████████████████████████████████▌ | 11471/11620 [39:57<00:04, 30.15it/s]"
     ]
    },
    {
     "name": "stdout",
     "output_type": "stream",
     "text": [
      "exception:  No columns to parse from file\n",
      "exception:  No columns to parse from file\n",
      "exception:  No columns to parse from file\n",
      "exception:  No columns to parse from file\n",
      "exception:  No columns to parse from file\n",
      "exception:  No columns to parse from file\n",
      "exception:  No columns to parse from file\n",
      "exception:  No columns to parse from file\n",
      "exception:  No columns to parse from file\n",
      "exception:  No columns to parse from file\n",
      "exception:  No columns to parse from file\n",
      "exception:  No columns to parse from file\n",
      "exception:  No columns to parse from file\n",
      "exception:  No columns to parse from file\n"
     ]
    },
    {
     "name": "stderr",
     "output_type": "stream",
     "text": [
      " 99%|█████████████████████████████████████████████████████████████████████████████████████████████████████████████████▋ | 11489/11620 [39:58<00:02, 44.64it/s]"
     ]
    },
    {
     "name": "stdout",
     "output_type": "stream",
     "text": [
      "exception:  No columns to parse from file\n",
      "exception:  No columns to parse from file\n",
      "exception:  No columns to parse from file\n",
      "exception:  No columns to parse from file\n",
      "exception:  No columns to parse from file\n",
      "exception:  No columns to parse from file\n",
      "exception:  No columns to parse from file\n",
      "exception:  No columns to parse from file\n",
      "exception:  No columns to parse from file\n",
      "exception:  No columns to parse from file\n",
      "exception:  No columns to parse from file\n",
      "exception:  No columns to parse from file\n"
     ]
    },
    {
     "name": "stderr",
     "output_type": "stream",
     "text": [
      " 99%|█████████████████████████████████████████████████████████████████████████████████████████████████████████████████▊ | 11502/11620 [39:58<00:02, 46.23it/s]"
     ]
    },
    {
     "name": "stdout",
     "output_type": "stream",
     "text": [
      "exception:  No columns to parse from file\n",
      "exception:  No columns to parse from file\n",
      "exception:  No columns to parse from file\n",
      "exception:  No columns to parse from file\n",
      "exception:  No columns to parse from file\n",
      "exception:  No columns to parse from file\n",
      "exception:  No columns to parse from file\n",
      "exception:  No columns to parse from file\n",
      "exception:  No columns to parse from file\n",
      "exception:  No columns to parse from file\n"
     ]
    },
    {
     "name": "stderr",
     "output_type": "stream",
     "text": [
      " 99%|█████████████████████████████████████████████████████████████████████████████████████████████████████████████████▉ | 11513/11620 [39:58<00:03, 33.42it/s]"
     ]
    },
    {
     "name": "stdout",
     "output_type": "stream",
     "text": [
      "exception:  No columns to parse from file\n",
      "exception:  No columns to parse from file\n",
      "exception:  No columns to parse from file\n",
      "exception:  No columns to parse from file\n"
     ]
    },
    {
     "name": "stderr",
     "output_type": "stream",
     "text": [
      "100%|███████████████████████████████████████████████████████████████████████████████████████████████████████████████████| 11620/11620 [40:23<00:00,  4.79it/s]\n"
     ]
    }
   ],
   "source": [
    "# extract features by feature type\n",
    "Xy = extract_bodypose_features()"
   ]
  },
  {
   "cell_type": "code",
   "execution_count": 75,
   "id": "2eb2771d",
   "metadata": {
    "collapsed": true
   },
   "outputs": [
    {
     "data": {
      "text/plain": [
       "array(['chunks/usma.20csz0015@iitrpr.ac.in-j489ubvnol-0-video_0.mp4',\n",
       "       array([[6.47555842e-08, 3.48414463e-05, 1.51459679e-02, ...,\n",
       "               0.00000000e+00, 0.00000000e+00, 0.00000000e+00],\n",
       "              [2.69129829e-08, 1.44407722e-07, 2.43436797e-03, ...,\n",
       "               0.00000000e+00, 0.00000000e+00, 0.00000000e+00],\n",
       "              [4.04111192e-08, 3.40708374e-08, 2.83401351e-03, ...,\n",
       "               0.00000000e+00, 0.00000000e+00, 0.00000000e+00],\n",
       "              ...,\n",
       "              [3.46604008e-06, 7.10375847e-06, 1.74936610e-02, ...,\n",
       "               0.00000000e+00, 0.00000000e+00, 0.00000000e+00],\n",
       "              [3.86729994e-07, 7.98157509e-08, 1.90436734e-03, ...,\n",
       "               0.00000000e+00, 0.00000000e+00, 0.00000000e+00],\n",
       "              [3.28843364e-07, 1.38292745e-07, 1.84733035e-02, ...,\n",
       "               0.00000000e+00, 0.00000000e+00, 0.00000000e+00]])   ,\n",
       "       'Barely-engaged'], dtype=object)"
      ]
     },
     "execution_count": 75,
     "metadata": {},
     "output_type": "execute_result"
    }
   ],
   "source": [
    "Xy[0]"
   ]
  },
  {
   "cell_type": "code",
   "execution_count": 76,
   "id": "c6526393",
   "metadata": {},
   "outputs": [],
   "source": [
    "np.save('Xy_engage_bodypose.npy', Xy)"
   ]
  },
  {
   "cell_type": "code",
   "execution_count": 39,
   "id": "bbcaf156",
   "metadata": {},
   "outputs": [],
   "source": [
    "def path_to_mp4(fname):\n",
    "    return fname.split('.csv')[0] + '.mp4'\n",
    "def path_to_csv(fname):\n",
    "    return fname.split('.mp4')[0] + '.csv'"
   ]
  },
  {
   "cell_type": "code",
   "execution_count": 31,
   "id": "b20162a7",
   "metadata": {},
   "outputs": [],
   "source": [
    "s = df.drop(drop_cols, axis=1).var()"
   ]
  },
  {
   "cell_type": "code",
   "execution_count": 77,
   "id": "fa9b0d42",
   "metadata": {},
   "outputs": [],
   "source": [
    "Xy_pdm = np.load('Xy_engage_gaze+hp+au+lmk+pdm.npy', allow_pickle=True)"
   ]
  },
  {
   "cell_type": "code",
   "execution_count": 79,
   "id": "d1be01be",
   "metadata": {},
   "outputs": [],
   "source": [
    "for i in range(len(Xy_pdm)):\n",
    "    Xy_pdm[i][0] = 'chunks/' + path_to_mp4(Xy_pdm[i][0].split('/')[-1])"
   ]
  },
  {
   "cell_type": "code",
   "execution_count": 81,
   "id": "7d13efcb",
   "metadata": {},
   "outputs": [],
   "source": [
    "np.save('Xy_engage_gaze+hp+au+lmk+pdm.npy', Xy_pdm)"
   ]
  },
  {
   "cell_type": "code",
   "execution_count": 83,
   "id": "3e7e299c",
   "metadata": {},
   "outputs": [
    {
     "data": {
      "text/plain": [
       "array(['chunks/usma.20csz0015@iitrpr.ac.in-j489ubvnol-0-video_1.mp4',\n",
       "       array([[-0.10324379,  0.1646596 , -0.98047171, ...,  0.13141678,\n",
       "                0.04945766,  0.07941369],\n",
       "              [-0.09543595,  0.2273657 , -0.96685974, ...,  0.20961635,\n",
       "                0.04467731,  0.1302674 ],\n",
       "              [-0.02406731,  0.26852661, -0.96279016, ...,  0.08637333,\n",
       "                0.0539184 ,  0.03830735],\n",
       "              ...,\n",
       "              [-0.02549066,  0.16890529, -0.98490824, ...,  0.20652646,\n",
       "                0.0780406 ,  0.15041556],\n",
       "              [-0.02541123,  0.18474121, -0.98234935, ...,  0.08207979,\n",
       "                0.0361835 ,  0.04579775],\n",
       "              [-0.02164846,  0.17222026, -0.98475567, ...,  0.07633136,\n",
       "                0.0490944 ,  0.03728916]])                             ,\n",
       "       'Highly-Engaged'], dtype=object)"
      ]
     },
     "execution_count": 83,
     "metadata": {},
     "output_type": "execute_result"
    }
   ],
   "source": []
  },
  {
   "cell_type": "code",
   "execution_count": null,
   "id": "5179af79",
   "metadata": {},
   "outputs": [],
   "source": []
  }
 ],
 "metadata": {
  "kernelspec": {
   "display_name": "Python 3 (ipykernel)",
   "language": "python",
   "name": "python3"
  },
  "language_info": {
   "codemirror_mode": {
    "name": "ipython",
    "version": 3
   },
   "file_extension": ".py",
   "mimetype": "text/x-python",
   "name": "python",
   "nbconvert_exporter": "python",
   "pygments_lexer": "ipython3",
   "version": "3.8.10"
  }
 },
 "nbformat": 4,
 "nbformat_minor": 5
}
